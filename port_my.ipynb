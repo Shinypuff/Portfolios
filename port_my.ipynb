{
 "cells": [
  {
   "cell_type": "code",
   "execution_count": 1,
   "id": "2bd77b7e-24ca-42b9-9d6f-332323b2f51d",
   "metadata": {},
   "outputs": [],
   "source": [
    "import random as rand\n",
    "import json\n",
    "import pandas as pd\n",
    "import numpy as np\n",
    "import yfinance as yf\n",
    "import warnings\n",
    "warnings.filterwarnings('ignore')\n",
    "\n",
    "from datetime import timedelta\n",
    "from datetime import datetime\n",
    "\n",
    "from matplotlib import pyplot as plt\n",
    "from utils.drawdown import Drawdown_plot\n",
    "from Port.Sharp import SharpPortfolio\n",
    "from Port.Markowitz_scipy import MarkowitzPortfolio\n",
    "from Port.Tobin_scipy import TobinPortfolio"
   ]
  },
  {
   "cell_type": "markdown",
   "id": "f4f185af-5722-42cc-ba16-f2a5556aa5e2",
   "metadata": {
    "tags": []
   },
   "source": [
    "# Загрузка данных для работы"
   ]
  },
  {
   "cell_type": "code",
   "execution_count": 2,
   "id": "71fdbdb9-41b3-4ab7-aa43-13e7f25a7a6a",
   "metadata": {},
   "outputs": [],
   "source": [
    "with open('utils/config.json', 'r') as file:\n",
    "    config = json.load(file)\n",
    "    \n",
    "start = config['start_date']\n",
    "end = config['end_date']\n",
    "riskfree = config['riskless_rate']\n",
    "riskfree_day = ((1+riskfree)**(1/252))-1"
   ]
  },
  {
   "cell_type": "code",
   "execution_count": 3,
   "id": "cebf71c9-f042-4e4f-89c4-7802a147a00e",
   "metadata": {},
   "outputs": [],
   "source": [
    "# def get_sp_data(start=start, end=end):\n",
    "#     # Get the current SP components, and get a tickers list\n",
    "#     sp_assets = pd.read_html(\n",
    "#         'https://en.wikipedia.org/wiki/List_of_S%26P_500_companies')[0]\n",
    "#     assets = sp_assets['Symbol'].str.replace('.', '-').tolist()\n",
    "#     # Download historical data to a multi-index DataFrame\n",
    "#     try:\n",
    "#         data = yf.download(assets, start=start, end=end, as_panel=False)\n",
    "#         filename = 'sp_components_data.pkl'\n",
    "#         data.to_pickle(filename)\n",
    "#         print('Data saved at {}'.format(filename))\n",
    "#     except ValueError:\n",
    "#         print('Failed download, try again.')\n",
    "#         data = None\n",
    "#     return data\n",
    "\n",
    "\n",
    "# if __name__ == '__main__':\n",
    "#     data = get_sp_data()"
   ]
  },
  {
   "cell_type": "code",
   "execution_count": 4,
   "id": "9d2a3f3a-332c-45fa-b356-4c57fa2fa0ae",
   "metadata": {},
   "outputs": [],
   "source": [
    "# pct = data.pct_change().iloc[1:,]\n",
    "# pct.to_excel('returns.xlsx')"
   ]
  },
  {
   "cell_type": "code",
   "execution_count": 5,
   "id": "84fc9954-f8dc-44df-8877-cf693c1d5115",
   "metadata": {},
   "outputs": [],
   "source": [
    "sp500 = pd.read_excel('Data/sp500.xlsx', index_col=0)\n",
    "sp500 = sp500.pct_change().iloc[1: ]\n",
    "pct = pd.read_excel('Data/returns.xlsx', index_col = 0)"
   ]
  },
  {
   "cell_type": "code",
   "execution_count": 6,
   "id": "942e9e75-f30d-4026-bc28-4cf94b504f4e",
   "metadata": {},
   "outputs": [],
   "source": [
    "pct = pct.dropna(axis=1)"
   ]
  },
  {
   "cell_type": "markdown",
   "id": "bd190cca-ce4c-4685-ae38-8f8e422f04c6",
   "metadata": {},
   "source": [
    "# Метрики"
   ]
  },
  {
   "cell_type": "code",
   "execution_count": 263,
   "id": "70055c5e-b116-40e2-83a3-91c0435cd6b6",
   "metadata": {},
   "outputs": [],
   "source": [
    "def get_metrics(df_data):  \n",
    "    metr = pd.DataFrame()\n",
    "    \n",
    "    #Average daily returns\n",
    "    mean = df_data.mean()\n",
    "    metr['AVG_returns'] = mean\n",
    "\n",
    "    #Risk\n",
    "    risk = df_data.std()\n",
    "    metr['Risk'] = risk\n",
    "\n",
    "    #Beta\n",
    "\n",
    "    var_metr = df_data.var()\n",
    "    cov_metr = df_data.cov()\n",
    "    beta = cov_metr['sp500']/var_metr['sp500']\n",
    "\n",
    "    metr['Beta'] = beta\n",
    "\n",
    "    #Alpha\n",
    "\n",
    "    riskf_daily = ((1+riskfree)**(1/252))-1\n",
    "    alpha = metr['AVG_returns'] - (riskf_daily + metr['Beta']*(mean['sp500'] - riskf_daily))\n",
    "    metr['Alpha'] = alpha\n",
    "\n",
    "    #VaR(95%)\n",
    "\n",
    "    VaR = - risk*1.65\n",
    "    metr['VaR(95%)'] = VaR\n",
    "    \n",
    "    #Drawdown and Recovery\n",
    "    portfolio_value = (df_data+1).cumprod() #датафрейм со \"стоимостью\" портфеля\n",
    "\n",
    "    recovery = []\n",
    "    drawdown = []\n",
    "    for i in range(len(df_data.columns)):\n",
    "        recovery.append(Drawdown_plot('zelyoniy','sobaka').find_max_recovery(portfolio_value.iloc[:,i])[0])\n",
    "        drawdown.append(Drawdown_plot(1,1).find_max_drawdown(portfolio_value.iloc[:,i])[0])\n",
    "    \n",
    "    metr['Drawdown(%)'] = drawdown\n",
    "    metr['Recovery(days)'] = recovery\n",
    "\n",
    "    return metr"
   ]
  },
  {
   "cell_type": "markdown",
   "id": "b77cf607-fb30-4c12-853f-993d2a221cd1",
   "metadata": {
    "tags": []
   },
   "source": [
    "# Бэктест "
   ]
  },
  {
   "cell_type": "code",
   "execution_count": 302,
   "id": "0c3f78bd-082b-4dba-95e9-1c170de1ec3d",
   "metadata": {},
   "outputs": [],
   "source": [
    "def backtesting_universal(data, # df with pct_changes\n",
    "                          port_model = MarkowitzPortfolio,\n",
    "                          window_train = 24, \n",
    "                          window_test = 1,\n",
    "                          train_start_year = 2018, \n",
    "                          train_start_month = 1,\n",
    "                          test_finish_year = 2022,\n",
    "                          test_finish_month = 11,\n",
    "                          **args):\n",
    "    \n",
    "    # print(args)\n",
    "    weights_year = []\n",
    "    return_portfolio = pd.DataFrame([])\n",
    "    \n",
    "    train_start_month = train_start_year * 12 + train_start_month - 1\n",
    "    test_finish_month = test_finish_year * 12 + test_finish_month - 1\n",
    "    train_finish_month = test_finish_month - window_train - window_test + 1\n",
    "    \n",
    "    for train_start_per in range(train_start_month, train_finish_month, window_test):\n",
    "        \n",
    "        train_finish_per = train_start_per + window_train\n",
    "        \n",
    "        train_year_start_per = train_start_per // 12\n",
    "        train_month_start_per = train_start_per % 12 + 1\n",
    "        \n",
    "        train_year_finish_per = train_finish_per // 12\n",
    "        train_month_finish_per = train_finish_per % 12 + 1\n",
    "        \n",
    "                \n",
    "        mask_train = (data.index > datetime(train_year_start_per, train_month_start_per, 1)) & (data.index < datetime(train_year_finish_per, train_month_finish_per, 1))\n",
    "        data_train_per = data[mask_train]\n",
    "        \n",
    "        \n",
    "        mu = (((data_train_per + 1).prod()) ** (1 / len(data_train_per)) - 1).values * 252  # средняя доходность за год (252 раб дня)\n",
    "        Sigma = data_train_per.cov().values * 252  # ковариационная матрица за год (252 раб дня)\n",
    "\n",
    "        port_ = port_model(mu, Sigma, args=args)\n",
    "        weights, _ = port_.fit()\n",
    "        weights_year.append(weights)\n",
    "        \n",
    "        \n",
    "        test_year_start_per = train_year_finish_per\n",
    "        test_month_start_per = train_month_finish_per\n",
    "        \n",
    "        test_finish_per = train_finish_per + window_test\n",
    "        \n",
    "        test_year_finish_per = test_finish_per // 12\n",
    "        test_month_finish_per = test_finish_per % 12 + 1\n",
    "        \n",
    "        # print(train_year_start_per, train_month_start_per,  train_year_finish_per, train_month_finish_per, test_year_finish_per, test_month_finish_per)\n",
    "        \n",
    "                \n",
    "        mask_test = (data.index > datetime(test_year_start_per, test_month_start_per, 1)) & (data.index < datetime(test_year_finish_per, test_month_finish_per, 1))\n",
    "        data_test_per = data[mask_test]\n",
    "        \n",
    "        #print(data_test_per, weights)\n",
    "        #print(data_test_per.shape, weights.shape)\n",
    "        return_portfolio_loc = pd.DataFrame(data_test_per.values @ weights, index=data_test_per.index,\n",
    "                                            columns=[f'{port_model.__name__}'])\n",
    "        \n",
    "\n",
    "        return_portfolio = pd.concat([return_portfolio, return_portfolio_loc])\n",
    "    \n",
    "    return_portfolio['sp500'] = sp500.loc[return_portfolio.index]\n",
    "\n",
    "    return return_portfolio"
   ]
  },
  {
   "cell_type": "markdown",
   "id": "1cfa89c5-446c-4f32-a5f3-f3825e007247",
   "metadata": {},
   "source": [
    "# Создание портфеля"
   ]
  },
  {
   "cell_type": "markdown",
   "id": "6445b0c4-14d1-42b1-8dd4-72a0bc136827",
   "metadata": {},
   "source": [
    "#### Один портфель"
   ]
  },
  {
   "cell_type": "code",
   "execution_count": 325,
   "id": "846df143-72ca-447e-bf5f-f26a4b8b4cd1",
   "metadata": {},
   "outputs": [],
   "source": [
    "def get_port(asset_list, portfolio_type = MarkowitzPortfolio, max_risk=1, min_ret=((1+riskfree)**(1/252))-1):\n",
    "    \n",
    "    asset_pct = pct[asset_list]\n",
    "    \n",
    "    asset_rets = backtesting_universal(asset_pct, port_model = portfolio_type, ret_det=(1+riskfree)**(1/252)-1, risk_det=1)\n",
    "    \n",
    "    asset_price = (asset_rets+1).cumprod()\n",
    "    plt.plot(asset_price)\n",
    "    plt.show()\n",
    "    \n",
    "    return asset_rets, asset_price"
   ]
  },
  {
   "cell_type": "markdown",
   "id": "7a045eff-5558-4197-b687-96c86149d967",
   "metadata": {},
   "source": [
    "#### Все портфели"
   ]
  },
  {
   "cell_type": "code",
   "execution_count": 326,
   "id": "27ab708a-4415-4d22-af9b-020e69904def",
   "metadata": {},
   "outputs": [],
   "source": [
    "# def get_all(asset_list, max_risk=1, min_ret=((1+riskfree)**(1/252))-1, args=None):\n",
    "def get_all(asset_list, ret_det=((1+riskfree)**(1/252))-1, risk_det=1):\n",
    "    \n",
    "    print(ret_det, risk_det)\n",
    "    asset_pct = pct[asset_list]\n",
    "    res = pd.DataFrame()\n",
    "    res_price = pd.DataFrame()\n",
    "    portfolios = {'Markowitz': MarkowitzPortfolio, 'Sharpe': SharpPortfolio, 'Tobin': TobinPortfolio}\n",
    "    \n",
    "    for portfolio_type in portfolios.keys():\n",
    "    \n",
    "        asset_rets = backtesting_universal(asset_pct, port_model = portfolios[portfolio_type], ret_det=ret_det, risk_det=risk_det)\n",
    "        res = pd.concat([res,asset_rets.iloc[:,0]], axis=1)\n",
    "        \n",
    "        asset_price = (asset_rets+1).cumprod() \n",
    "        res_price= pd.concat([res_price,asset_price.iloc[:,0]], axis=1)\n",
    "    \n",
    "    res.set_axis(portfolios.keys(), axis='columns', inplace=True)    \n",
    "    res['sp500']= sp500.loc[res.index]\n",
    "    res_price['sp500']= (sp500.loc[res_price.index]+1).cumprod()\n",
    "    \n",
    "    # plt.plot(res_price, label = res_price.columns)\n",
    "    # plt.legend()\n",
    "    # plt.show()\n",
    "    \n",
    "    return res, res_price"
   ]
  },
  {
   "cell_type": "markdown",
   "id": "792a4185-5d28-4d2e-8f46-a39e6740b569",
   "metadata": {},
   "source": [
    "# Baseline"
   ]
  },
  {
   "cell_type": "code",
   "execution_count": 327,
   "id": "eaee9365-cd45-4194-8067-f16a4669ba91",
   "metadata": {},
   "outputs": [],
   "source": [
    "# fgfg = get_all(get_ab(pct, 20),ret_det=((1+riskfree)**(1/252))-1, risk_det=0.11)\n",
    "# fgfg"
   ]
  },
  {
   "cell_type": "code",
   "execution_count": 357,
   "id": "8f09e2fa-3ec1-4041-b0da-53f47b538323",
   "metadata": {},
   "outputs": [],
   "source": [
    "all_assets = pct.columns\n",
    "\n",
    "def select_rand(n=1):\n",
    "    rand_ports = pd.DataFrame()\n",
    "    metr = pd.DataFrame()\n",
    "    \n",
    "    for i in range(n):\n",
    "        pick = rand.sample(list(all_assets),20)\n",
    "        port,__ = get_all(pick)\n",
    "        rets = get_metrics(port).drop('sp500', axis = 0)\n",
    "        metr = pd.concat([metr, rets],axis = 0)\n",
    "    \n",
    "    return metr.groupby(metr.index).mean()"
   ]
  },
  {
   "cell_type": "code",
   "execution_count": 360,
   "id": "70e8b0e2-d842-433d-9dc2-13fef5ac792c",
   "metadata": {},
   "outputs": [
    {
     "name": "stdout",
     "output_type": "stream",
     "text": [
      "0.00011730371383444904 1\n",
      "0.00011730371383444904 1\n",
      "0.00011730371383444904 1\n",
      "0.00011730371383444904 1\n",
      "0.00011730371383444904 1\n",
      "0.00011730371383444904 1\n",
      "0.00011730371383444904 1\n",
      "0.00011730371383444904 1\n",
      "0.00011730371383444904 1\n",
      "0.00011730371383444904 1\n"
     ]
    },
    {
     "data": {
      "text/html": [
       "<div>\n",
       "<style scoped>\n",
       "    .dataframe tbody tr th:only-of-type {\n",
       "        vertical-align: middle;\n",
       "    }\n",
       "\n",
       "    .dataframe tbody tr th {\n",
       "        vertical-align: top;\n",
       "    }\n",
       "\n",
       "    .dataframe thead th {\n",
       "        text-align: right;\n",
       "    }\n",
       "</style>\n",
       "<table border=\"1\" class=\"dataframe\">\n",
       "  <thead>\n",
       "    <tr style=\"text-align: right;\">\n",
       "      <th></th>\n",
       "      <th>AVG_returns</th>\n",
       "      <th>Risk</th>\n",
       "      <th>Beta</th>\n",
       "      <th>Alpha</th>\n",
       "      <th>VaR(95%)</th>\n",
       "      <th>Drawdown(%)</th>\n",
       "      <th>Recovery(days)</th>\n",
       "    </tr>\n",
       "  </thead>\n",
       "  <tbody>\n",
       "    <tr>\n",
       "      <th>Markowitz</th>\n",
       "      <td>0.000412</td>\n",
       "      <td>0.017113</td>\n",
       "      <td>0.938137</td>\n",
       "      <td>0.000045</td>\n",
       "      <td>-0.028236</td>\n",
       "      <td>-41.583980</td>\n",
       "      <td>182.0</td>\n",
       "    </tr>\n",
       "    <tr>\n",
       "      <th>Sharpe</th>\n",
       "      <td>0.000594</td>\n",
       "      <td>0.019617</td>\n",
       "      <td>1.054766</td>\n",
       "      <td>0.000196</td>\n",
       "      <td>-0.032368</td>\n",
       "      <td>-42.146781</td>\n",
       "      <td>198.0</td>\n",
       "    </tr>\n",
       "    <tr>\n",
       "      <th>Tobin</th>\n",
       "      <td>0.000229</td>\n",
       "      <td>0.018580</td>\n",
       "      <td>1.056953</td>\n",
       "      <td>-0.000170</td>\n",
       "      <td>-0.030658</td>\n",
       "      <td>-41.963675</td>\n",
       "      <td>359.0</td>\n",
       "    </tr>\n",
       "  </tbody>\n",
       "</table>\n",
       "</div>"
      ],
      "text/plain": [
       "           AVG_returns      Risk      Beta     Alpha  VaR(95%)  Drawdown(%)  \\\n",
       "Markowitz     0.000412  0.017113  0.938137  0.000045 -0.028236   -41.583980   \n",
       "Sharpe        0.000594  0.019617  1.054766  0.000196 -0.032368   -42.146781   \n",
       "Tobin         0.000229  0.018580  1.056953 -0.000170 -0.030658   -41.963675   \n",
       "\n",
       "           Recovery(days)  \n",
       "Markowitz           182.0  \n",
       "Sharpe              198.0  \n",
       "Tobin               359.0  "
      ]
     },
     "execution_count": 360,
     "metadata": {},
     "output_type": "execute_result"
    }
   ],
   "source": [
    "x = select_rand(10)\n",
    "x"
   ]
  },
  {
   "cell_type": "markdown",
   "id": "fb75b515-7005-47a7-b5db-fd0f4d6a37b5",
   "metadata": {},
   "source": [
    "# Шарп"
   ]
  },
  {
   "cell_type": "code",
   "execution_count": 330,
   "id": "caf782f0-5d33-43a0-bfcd-a5347cd21669",
   "metadata": {},
   "outputs": [],
   "source": [
    "def get_sharpe(df_pct,n):\n",
    "    sharpe = (df_pct.mean() - riskfree_day)/df_pct.std()\n",
    "    sharpe = sharpe.sort_values(ascending=False)\n",
    "    return sharpe.head(n).index.to_list()"
   ]
  },
  {
   "cell_type": "markdown",
   "id": "4fa7f5d0-7e74-4f85-97a4-49dea7524ac4",
   "metadata": {},
   "source": [
    "# Sortino"
   ]
  },
  {
   "cell_type": "code",
   "execution_count": 331,
   "id": "dc427157-b9d5-4673-b746-84e2d581ab4e",
   "metadata": {},
   "outputs": [],
   "source": [
    "def get_sortino(df_pct,n):\n",
    "    down_risk = pct[pct<0].std()\n",
    "    sortino = (df_pct.mean() - riskfree_day)/down_risk\n",
    "    sortino = sortino.sort_values(ascending=False)\n",
    "    return sortino.head(n).index.to_list()"
   ]
  },
  {
   "cell_type": "markdown",
   "id": "34d0e689-e22e-4f47-81fc-f33a47929934",
   "metadata": {},
   "source": [
    "# PEG"
   ]
  },
  {
   "cell_type": "code",
   "execution_count": 332,
   "id": "6de50154-ac2a-4776-b3da-f9208b815a87",
   "metadata": {},
   "outputs": [],
   "source": [
    "# ps_df = pd.DataFrame()\n",
    "\n",
    "# for company in pct.columns:   \n",
    "#     firm = yf.Ticker(company)\n",
    "#     dict =  firm.info\n",
    "#     ps_df[company] = [dict['priceToSalesTrailing12Months']]"
   ]
  },
  {
   "cell_type": "code",
   "execution_count": 333,
   "id": "91cb8dd7-09f4-432b-bcf4-4c9142f0444f",
   "metadata": {},
   "outputs": [],
   "source": [
    "# ps_df = ps_df.T\n",
    "ps_df = pd.read_excel('ps.xlsx', index_col=0).sort_values(by=0, ascending=0)"
   ]
  },
  {
   "cell_type": "markdown",
   "id": "6098538b-365f-40cd-9c25-249488415975",
   "metadata": {},
   "source": [
    "# Alpha/Beta"
   ]
  },
  {
   "cell_type": "code",
   "execution_count": 334,
   "id": "278de52b-b2ab-4d3e-9acd-17a91f36eb46",
   "metadata": {},
   "outputs": [],
   "source": [
    "def get_ab(df_pct, n):    \n",
    "    \n",
    "    ab_ratio = pd.DataFrame()\n",
    "\n",
    "    df_pct['sp500']= sp500\n",
    "\n",
    "    #Mean\n",
    "\n",
    "    mean_pct = df_pct.mean()\n",
    "\n",
    "    #Beta\n",
    "\n",
    "    var_pct = df_pct.var()\n",
    "    cov_pct = df_pct.cov()\n",
    "    beta = cov_pct['sp500']/var_pct['sp500']\n",
    "\n",
    "\n",
    "    #Alpha\n",
    "\n",
    "    riskf_daily = ((1+riskfree)**(1/252))-1\n",
    "    alpha = mean_pct - (riskf_daily + beta*(mean_pct['sp500'] - riskf_daily))\n",
    "\n",
    "    ab_ratio['Ratio'] = alpha/beta\n",
    "    \n",
    "    return list(ab_ratio.sort_values(by='Ratio', ascending=0).head(n).index)"
   ]
  },
  {
   "cell_type": "markdown",
   "id": "7d0606dc-0923-4f54-9017-d859648cdfbf",
   "metadata": {},
   "source": [
    "# Общий датафрейм"
   ]
  },
  {
   "cell_type": "markdown",
   "id": "f9a86213-6835-44bf-8fe9-d3ded480a797",
   "metadata": {},
   "source": [
    "#### Создаём словарь с ассетами для каждого метода"
   ]
  },
  {
   "cell_type": "code",
   "execution_count": 335,
   "id": "e593faf7-9266-4f6b-aae2-8fd0a91d550d",
   "metadata": {},
   "outputs": [],
   "source": [
    "def get_all_dict(df_pct, n):\n",
    "    \n",
    "    methods = {}\n",
    "        \n",
    "    #Sharpe\n",
    "    methods['Sharpe']=get_sharpe(df_pct, n)\n",
    "    \n",
    "    #Sortino\n",
    "    methods['Sortino']=get_sortino(df_pct,n)\n",
    "    \n",
    "    #P/S\n",
    "    ps_df = pd.read_excel('ps.xlsx', index_col=0).sort_values(by=0, ascending=0)\n",
    "    methods['P/S']=list(ps_df.head(n).index)\n",
    "    \n",
    "    #Alpha/Beta\n",
    "    methods['Alpha/Beta']=get_ab(df_pct, n)\n",
    "    \n",
    "    return methods"
   ]
  },
  {
   "cell_type": "markdown",
   "id": "c86daf92-e73b-4298-922a-f4ad41cdaa5d",
   "metadata": {},
   "source": [
    "#### Возвращаем общий датафрейм с портфелями для кадого метода"
   ]
  },
  {
   "cell_type": "code",
   "execution_count": 346,
   "id": "1b65dd54-70c7-41e9-aea2-2fdede294e55",
   "metadata": {},
   "outputs": [],
   "source": [
    "def get_all_df(df_pct, n, **args):\n",
    "    \n",
    "    if 'ret_det' not in args.keys():\n",
    "        args['ret_det']=((1+riskfree)**(1/252))-1\n",
    "    \n",
    "    if 'risk_det' not in args.keys():\n",
    "        args['risk_det']=1\n",
    "\n",
    "    method_dict = get_all_dict(df_pct,n)\n",
    "    \n",
    "    returns = pd.DataFrame()\n",
    "    prices = pd.DataFrame()\n",
    "\n",
    "    for method in method_dict.keys():\n",
    "        rets, price = get_all(method_dict[method], ret_det=args['ret_det'], risk_det=args['risk_det'])\n",
    "        rets['Method'] = method\n",
    "        price['Method'] = method\n",
    "\n",
    "        returns = pd.concat([aaa,rets], axis = 0)\n",
    "        prices = pd.concat([bbb,price], axis = 0)\n",
    "    \n",
    "    # print(pd.DataFrame.from_dict(method_dict))\n",
    "    \n",
    "    return returns, prices"
   ]
  },
  {
   "cell_type": "code",
   "execution_count": 353,
   "id": "965514bb-4f25-4a77-9493-2698dafaad17",
   "metadata": {},
   "outputs": [
    {
     "name": "stdout",
     "output_type": "stream",
     "text": [
      "0.00011730371383444904 0.01\n",
      "0.00011730371383444904 0.01\n",
      "0.00011730371383444904 0.01\n",
      "0.00011730371383444904 0.01\n"
     ]
    }
   ],
   "source": [
    "ff,__ = get_all_df(pct, 20, ret_det = ((1+riskfree)**(1/252))-1, risk_det=0.01)"
   ]
  },
  {
   "cell_type": "code",
   "execution_count": 355,
   "id": "d86e3177-9e40-4808-9861-b3c2543f1496",
   "metadata": {},
   "outputs": [
    {
     "data": {
      "text/html": [
       "<div>\n",
       "<style scoped>\n",
       "    .dataframe tbody tr th:only-of-type {\n",
       "        vertical-align: middle;\n",
       "    }\n",
       "\n",
       "    .dataframe tbody tr th {\n",
       "        vertical-align: top;\n",
       "    }\n",
       "\n",
       "    .dataframe thead th {\n",
       "        text-align: right;\n",
       "    }\n",
       "</style>\n",
       "<table border=\"1\" class=\"dataframe\">\n",
       "  <thead>\n",
       "    <tr style=\"text-align: right;\">\n",
       "      <th></th>\n",
       "      <th>Markowitz</th>\n",
       "      <th>Sharpe</th>\n",
       "      <th>Tobin</th>\n",
       "      <th>sp500</th>\n",
       "      <th>Method</th>\n",
       "    </tr>\n",
       "  </thead>\n",
       "  <tbody>\n",
       "    <tr>\n",
       "      <th>2020-01-02</th>\n",
       "      <td>0.007808</td>\n",
       "      <td>0.016805</td>\n",
       "      <td>0.034929</td>\n",
       "      <td>0.008379</td>\n",
       "      <td>Sharpe</td>\n",
       "    </tr>\n",
       "    <tr>\n",
       "      <th>2020-01-03</th>\n",
       "      <td>-0.000316</td>\n",
       "      <td>-0.004530</td>\n",
       "      <td>-0.006918</td>\n",
       "      <td>-0.007060</td>\n",
       "      <td>Sharpe</td>\n",
       "    </tr>\n",
       "    <tr>\n",
       "      <th>2020-01-06</th>\n",
       "      <td>0.004653</td>\n",
       "      <td>0.001407</td>\n",
       "      <td>-0.008719</td>\n",
       "      <td>0.003533</td>\n",
       "      <td>Sharpe</td>\n",
       "    </tr>\n",
       "    <tr>\n",
       "      <th>2020-01-07</th>\n",
       "      <td>-0.000740</td>\n",
       "      <td>0.005955</td>\n",
       "      <td>0.007120</td>\n",
       "      <td>-0.002803</td>\n",
       "      <td>Sharpe</td>\n",
       "    </tr>\n",
       "    <tr>\n",
       "      <th>2020-01-08</th>\n",
       "      <td>0.012092</td>\n",
       "      <td>0.015091</td>\n",
       "      <td>0.010454</td>\n",
       "      <td>0.004902</td>\n",
       "      <td>Sharpe</td>\n",
       "    </tr>\n",
       "    <tr>\n",
       "      <th>...</th>\n",
       "      <td>...</td>\n",
       "      <td>...</td>\n",
       "      <td>...</td>\n",
       "      <td>...</td>\n",
       "      <td>...</td>\n",
       "    </tr>\n",
       "    <tr>\n",
       "      <th>2022-10-24</th>\n",
       "      <td>0.014538</td>\n",
       "      <td>0.012440</td>\n",
       "      <td>0.011975</td>\n",
       "      <td>0.011882</td>\n",
       "      <td>Alpha/Beta</td>\n",
       "    </tr>\n",
       "    <tr>\n",
       "      <th>2022-10-25</th>\n",
       "      <td>0.021553</td>\n",
       "      <td>0.029275</td>\n",
       "      <td>0.017302</td>\n",
       "      <td>0.016267</td>\n",
       "      <td>Alpha/Beta</td>\n",
       "    </tr>\n",
       "    <tr>\n",
       "      <th>2022-10-26</th>\n",
       "      <td>0.006167</td>\n",
       "      <td>0.011942</td>\n",
       "      <td>0.002240</td>\n",
       "      <td>-0.007388</td>\n",
       "      <td>Alpha/Beta</td>\n",
       "    </tr>\n",
       "    <tr>\n",
       "      <th>2022-10-27</th>\n",
       "      <td>0.002563</td>\n",
       "      <td>0.000052</td>\n",
       "      <td>0.005621</td>\n",
       "      <td>-0.006083</td>\n",
       "      <td>Alpha/Beta</td>\n",
       "    </tr>\n",
       "    <tr>\n",
       "      <th>2022-10-28</th>\n",
       "      <td>0.036681</td>\n",
       "      <td>0.048308</td>\n",
       "      <td>0.017392</td>\n",
       "      <td>0.024626</td>\n",
       "      <td>Alpha/Beta</td>\n",
       "    </tr>\n",
       "  </tbody>\n",
       "</table>\n",
       "<p>3450 rows × 5 columns</p>\n",
       "</div>"
      ],
      "text/plain": [
       "            Markowitz    Sharpe     Tobin     sp500      Method\n",
       "2020-01-02   0.007808  0.016805  0.034929  0.008379      Sharpe\n",
       "2020-01-03  -0.000316 -0.004530 -0.006918 -0.007060      Sharpe\n",
       "2020-01-06   0.004653  0.001407 -0.008719  0.003533      Sharpe\n",
       "2020-01-07  -0.000740  0.005955  0.007120 -0.002803      Sharpe\n",
       "2020-01-08   0.012092  0.015091  0.010454  0.004902      Sharpe\n",
       "...               ...       ...       ...       ...         ...\n",
       "2022-10-24   0.014538  0.012440  0.011975  0.011882  Alpha/Beta\n",
       "2022-10-25   0.021553  0.029275  0.017302  0.016267  Alpha/Beta\n",
       "2022-10-26   0.006167  0.011942  0.002240 -0.007388  Alpha/Beta\n",
       "2022-10-27   0.002563  0.000052  0.005621 -0.006083  Alpha/Beta\n",
       "2022-10-28   0.036681  0.048308  0.017392  0.024626  Alpha/Beta\n",
       "\n",
       "[3450 rows x 5 columns]"
      ]
     },
     "execution_count": 355,
     "metadata": {},
     "output_type": "execute_result"
    }
   ],
   "source": [
    "ff"
   ]
  },
  {
   "cell_type": "code",
   "execution_count": 185,
   "id": "6471ae7b-6de1-48d5-9e30-cbd0b454a10d",
   "metadata": {},
   "outputs": [
    {
     "data": {
      "text/html": [
       "<div>\n",
       "<style scoped>\n",
       "    .dataframe tbody tr th:only-of-type {\n",
       "        vertical-align: middle;\n",
       "    }\n",
       "\n",
       "    .dataframe tbody tr th {\n",
       "        vertical-align: top;\n",
       "    }\n",
       "\n",
       "    .dataframe thead th {\n",
       "        text-align: right;\n",
       "    }\n",
       "</style>\n",
       "<table border=\"1\" class=\"dataframe\">\n",
       "  <thead>\n",
       "    <tr style=\"text-align: right;\">\n",
       "      <th></th>\n",
       "      <th>MarkowitzPortfolio</th>\n",
       "      <th>SharpPortfolio</th>\n",
       "      <th>TobinPortfolio</th>\n",
       "      <th>sp500</th>\n",
       "    </tr>\n",
       "  </thead>\n",
       "  <tbody>\n",
       "    <tr>\n",
       "      <th>2020-01-02</th>\n",
       "      <td>1.007808</td>\n",
       "      <td>1.016805</td>\n",
       "      <td>1.034929</td>\n",
       "      <td>1.008379</td>\n",
       "    </tr>\n",
       "    <tr>\n",
       "      <th>2020-01-03</th>\n",
       "      <td>1.007490</td>\n",
       "      <td>1.012199</td>\n",
       "      <td>1.027769</td>\n",
       "      <td>1.001260</td>\n",
       "    </tr>\n",
       "    <tr>\n",
       "      <th>2020-01-06</th>\n",
       "      <td>1.012177</td>\n",
       "      <td>1.013623</td>\n",
       "      <td>1.018808</td>\n",
       "      <td>1.004798</td>\n",
       "    </tr>\n",
       "    <tr>\n",
       "      <th>2020-01-07</th>\n",
       "      <td>1.011428</td>\n",
       "      <td>1.019659</td>\n",
       "      <td>1.026061</td>\n",
       "      <td>1.001981</td>\n",
       "    </tr>\n",
       "    <tr>\n",
       "      <th>2020-01-08</th>\n",
       "      <td>1.023659</td>\n",
       "      <td>1.035046</td>\n",
       "      <td>1.036788</td>\n",
       "      <td>1.006893</td>\n",
       "    </tr>\n",
       "    <tr>\n",
       "      <th>...</th>\n",
       "      <td>...</td>\n",
       "      <td>...</td>\n",
       "      <td>...</td>\n",
       "      <td>...</td>\n",
       "    </tr>\n",
       "    <tr>\n",
       "      <th>2022-10-24</th>\n",
       "      <td>2.513225</td>\n",
       "      <td>2.556942</td>\n",
       "      <td>3.093178</td>\n",
       "      <td>1.158453</td>\n",
       "    </tr>\n",
       "    <tr>\n",
       "      <th>2022-10-25</th>\n",
       "      <td>2.557865</td>\n",
       "      <td>2.624939</td>\n",
       "      <td>3.155049</td>\n",
       "      <td>1.177298</td>\n",
       "    </tr>\n",
       "    <tr>\n",
       "      <th>2022-10-26</th>\n",
       "      <td>2.550280</td>\n",
       "      <td>2.641322</td>\n",
       "      <td>3.196656</td>\n",
       "      <td>1.168600</td>\n",
       "    </tr>\n",
       "    <tr>\n",
       "      <th>2022-10-27</th>\n",
       "      <td>2.538580</td>\n",
       "      <td>2.640962</td>\n",
       "      <td>3.220376</td>\n",
       "      <td>1.161492</td>\n",
       "    </tr>\n",
       "    <tr>\n",
       "      <th>2022-10-28</th>\n",
       "      <td>2.604012</td>\n",
       "      <td>2.702182</td>\n",
       "      <td>3.286046</td>\n",
       "      <td>1.190095</td>\n",
       "    </tr>\n",
       "  </tbody>\n",
       "</table>\n",
       "<p>690 rows × 4 columns</p>\n",
       "</div>"
      ],
      "text/plain": [
       "            MarkowitzPortfolio  SharpPortfolio  TobinPortfolio     sp500\n",
       "2020-01-02            1.007808        1.016805        1.034929  1.008379\n",
       "2020-01-03            1.007490        1.012199        1.027769  1.001260\n",
       "2020-01-06            1.012177        1.013623        1.018808  1.004798\n",
       "2020-01-07            1.011428        1.019659        1.026061  1.001981\n",
       "2020-01-08            1.023659        1.035046        1.036788  1.006893\n",
       "...                        ...             ...             ...       ...\n",
       "2022-10-24            2.513225        2.556942        3.093178  1.158453\n",
       "2022-10-25            2.557865        2.624939        3.155049  1.177298\n",
       "2022-10-26            2.550280        2.641322        3.196656  1.168600\n",
       "2022-10-27            2.538580        2.640962        3.220376  1.161492\n",
       "2022-10-28            2.604012        2.702182        3.286046  1.190095\n",
       "\n",
       "[690 rows x 4 columns]"
      ]
     },
     "execution_count": 185,
     "metadata": {},
     "output_type": "execute_result"
    }
   ],
   "source": [
    "__.loc[__['Method']== 'Sharpe',:'sp500']"
   ]
  },
  {
   "cell_type": "code",
   "execution_count": 126,
   "id": "4f9dbb0e-8081-44a9-99d7-8bb7beb3a6b6",
   "metadata": {},
   "outputs": [],
   "source": [
    "def all_metr(df_pct):\n",
    "    metrics = pd.DataFrame()\n",
    "    for method in ports.keys():\n",
    "        ff = get_metrics(df_pct.loc[df_pct['Method']== method,:'sp500'])\n",
    "        ff['Method'] = method\n",
    "        metrics = pd.concat([metrics, ff.drop('sp500',axis =0)],axis=0)\n",
    "    \n",
    "    return metrics"
   ]
  },
  {
   "cell_type": "code",
   "execution_count": 127,
   "id": "7189f526-2ef2-4017-9bd0-55eb78676314",
   "metadata": {},
   "outputs": [
    {
     "data": {
      "image/png": "[encoded data removed]",
      "text/plain": [
       "<Figure size 640x480 with 1 Axes>"
      ]
     },
     "metadata": {},
     "output_type": "display_data"
    }
   ],
   "source": [
    "fg = __.loc[__['Method']== 'Sharpe',:].drop('Method', axis = 1)\n",
    "plt.plot(fg)\n",
    "plt.show()"
   ]
  },
  {
   "cell_type": "code",
   "execution_count": 160,
   "id": "f6162063-d341-4510-be7a-0c09b45152ac",
   "metadata": {},
   "outputs": [
    {
     "data": {
      "text/html": [
       "<div>\n",
       "<style scoped>\n",
       "    .dataframe tbody tr th:only-of-type {\n",
       "        vertical-align: middle;\n",
       "    }\n",
       "\n",
       "    .dataframe tbody tr th {\n",
       "        vertical-align: top;\n",
       "    }\n",
       "\n",
       "    .dataframe thead th {\n",
       "        text-align: right;\n",
       "    }\n",
       "</style>\n",
       "<table border=\"1\" class=\"dataframe\">\n",
       "  <thead>\n",
       "    <tr style=\"text-align: right;\">\n",
       "      <th></th>\n",
       "      <th>index</th>\n",
       "      <th>Method</th>\n",
       "      <th>variable</th>\n",
       "      <th>value</th>\n",
       "    </tr>\n",
       "  </thead>\n",
       "  <tbody>\n",
       "    <tr>\n",
       "      <th>0</th>\n",
       "      <td>Markowitz</td>\n",
       "      <td>Sharpe</td>\n",
       "      <td>AVG_returns</td>\n",
       "      <td>0.001526</td>\n",
       "    </tr>\n",
       "    <tr>\n",
       "      <th>1</th>\n",
       "      <td>Sharpe</td>\n",
       "      <td>Sharpe</td>\n",
       "      <td>AVG_returns</td>\n",
       "      <td>0.001648</td>\n",
       "    </tr>\n",
       "    <tr>\n",
       "      <th>2</th>\n",
       "      <td>Tobin</td>\n",
       "      <td>Sharpe</td>\n",
       "      <td>AVG_returns</td>\n",
       "      <td>0.002016</td>\n",
       "    </tr>\n",
       "    <tr>\n",
       "      <th>3</th>\n",
       "      <td>Markowitz</td>\n",
       "      <td>Sortino</td>\n",
       "      <td>AVG_returns</td>\n",
       "      <td>0.001580</td>\n",
       "    </tr>\n",
       "    <tr>\n",
       "      <th>4</th>\n",
       "      <td>Sharpe</td>\n",
       "      <td>Sortino</td>\n",
       "      <td>AVG_returns</td>\n",
       "      <td>0.001661</td>\n",
       "    </tr>\n",
       "    <tr>\n",
       "      <th>...</th>\n",
       "      <td>...</td>\n",
       "      <td>...</td>\n",
       "      <td>...</td>\n",
       "      <td>...</td>\n",
       "    </tr>\n",
       "    <tr>\n",
       "      <th>79</th>\n",
       "      <td>Sharpe</td>\n",
       "      <td>P/S</td>\n",
       "      <td>Recovery(days)</td>\n",
       "      <td>202.000000</td>\n",
       "    </tr>\n",
       "    <tr>\n",
       "      <th>80</th>\n",
       "      <td>Tobin</td>\n",
       "      <td>P/S</td>\n",
       "      <td>Recovery(days)</td>\n",
       "      <td>204.000000</td>\n",
       "    </tr>\n",
       "    <tr>\n",
       "      <th>81</th>\n",
       "      <td>Markowitz</td>\n",
       "      <td>Alpha/Beta</td>\n",
       "      <td>Recovery(days)</td>\n",
       "      <td>128.000000</td>\n",
       "    </tr>\n",
       "    <tr>\n",
       "      <th>82</th>\n",
       "      <td>Sharpe</td>\n",
       "      <td>Alpha/Beta</td>\n",
       "      <td>Recovery(days)</td>\n",
       "      <td>139.000000</td>\n",
       "    </tr>\n",
       "    <tr>\n",
       "      <th>83</th>\n",
       "      <td>Tobin</td>\n",
       "      <td>Alpha/Beta</td>\n",
       "      <td>Recovery(days)</td>\n",
       "      <td>133.000000</td>\n",
       "    </tr>\n",
       "  </tbody>\n",
       "</table>\n",
       "<p>84 rows × 4 columns</p>\n",
       "</div>"
      ],
      "text/plain": [
       "        index      Method        variable       value\n",
       "0   Markowitz      Sharpe     AVG_returns    0.001526\n",
       "1      Sharpe      Sharpe     AVG_returns    0.001648\n",
       "2       Tobin      Sharpe     AVG_returns    0.002016\n",
       "3   Markowitz     Sortino     AVG_returns    0.001580\n",
       "4      Sharpe     Sortino     AVG_returns    0.001661\n",
       "..        ...         ...             ...         ...\n",
       "79     Sharpe         P/S  Recovery(days)  202.000000\n",
       "80      Tobin         P/S  Recovery(days)  204.000000\n",
       "81  Markowitz  Alpha/Beta  Recovery(days)  128.000000\n",
       "82     Sharpe  Alpha/Beta  Recovery(days)  139.000000\n",
       "83      Tobin  Alpha/Beta  Recovery(days)  133.000000\n",
       "\n",
       "[84 rows x 4 columns]"
      ]
     },
     "execution_count": 160,
     "metadata": {},
     "output_type": "execute_result"
    }
   ],
   "source": [
    "melted = all_metr(aaa).reset_index().melt(id_vars=['index','Method'])\n",
    "melted"
   ]
  },
  {
   "cell_type": "code",
   "execution_count": 161,
   "id": "e1e635df-cb36-4a42-8d63-bf4071360b47",
   "metadata": {},
   "outputs": [],
   "source": [
    "def get_slice(df_melted, method):\n",
    "    for var in df_melted['variable'].unique():\n",
    "        avg = df_melted.loc[df_melted['variable']==var]\n",
    "        sex = avg.loc[avg['Method']==method].drop(['variable'],axis=1).set_index('index').T\n",
    "\n",
    "        plt.bar(sex.columns, height=sex.iloc[1,:])\n",
    "        plt.title(var)\n",
    "        plt.show()    "
   ]
  },
  {
   "cell_type": "code",
   "execution_count": 162,
   "id": "3da297cf-9c45-41e2-8e8e-da54a5832c3a",
   "metadata": {},
   "outputs": [
    {
     "data": {
      "image/png": "[encoded data removed]",
      "text/plain": [
       "<Figure size 640x480 with 1 Axes>"
      ]
     },
     "metadata": {},
     "output_type": "display_data"
    },
    {
     "data": {
      "image/png": "[encoded data removed]",
      "text/plain": [
       "<Figure size 640x480 with 1 Axes>"
      ]
     },
     "metadata": {},
     "output_type": "display_data"
    },
    {
     "data": {
      "image/png": "[encoded data removed]",
      "text/plain": [
       "<Figure size 640x480 with 1 Axes>"
      ]
     },
     "metadata": {},
     "output_type": "display_data"
    },
    {
     "data": {
      "image/png": "[encoded data removed]",
      "text/plain": [
       "<Figure size 640x480 with 1 Axes>"
      ]
     },
     "metadata": {},
     "output_type": "display_data"
    },
    {
     "data": {
      "image/png": "[encoded data removed]",
      "text/plain": [
       "<Figure size 640x480 with 1 Axes>"
      ]
     },
     "metadata": {},
     "output_type": "display_data"
    },
    {
     "data": {
      "image/png": "[encoded data removed]",
      "text/plain": [
       "<Figure size 640x480 with 1 Axes>"
      ]
     },
     "metadata": {},
     "output_type": "display_data"
    },
    {
     "data": {
      "image/png": "[encoded data removed]",
      "text/plain": [
       "<Figure size 640x480 with 1 Axes>"
      ]
     },
     "metadata": {},
     "output_type": "display_data"
    }
   ],
   "source": [
    "sd = get_slice(melted, 'Sortino')"
   ]
  },
  {
   "cell_type": "code",
   "execution_count": 132,
   "id": "15555ee3-4f62-4cfc-8dff-2436a71817e0",
   "metadata": {},
   "outputs": [
    {
     "data": {
      "text/html": [
       "<div>\n",
       "<style scoped>\n",
       "    .dataframe tbody tr th:only-of-type {\n",
       "        vertical-align: middle;\n",
       "    }\n",
       "\n",
       "    .dataframe tbody tr th {\n",
       "        vertical-align: top;\n",
       "    }\n",
       "\n",
       "    .dataframe thead th {\n",
       "        text-align: right;\n",
       "    }\n",
       "</style>\n",
       "<table border=\"1\" class=\"dataframe\">\n",
       "  <thead>\n",
       "    <tr style=\"text-align: right;\">\n",
       "      <th></th>\n",
       "      <th>index</th>\n",
       "      <th>Method</th>\n",
       "      <th>variable</th>\n",
       "      <th>value</th>\n",
       "    </tr>\n",
       "  </thead>\n",
       "  <tbody>\n",
       "    <tr>\n",
       "      <th>0</th>\n",
       "      <td>Markowitz</td>\n",
       "      <td>Sharpe</td>\n",
       "      <td>AVG_returns</td>\n",
       "      <td>0.001526</td>\n",
       "    </tr>\n",
       "    <tr>\n",
       "      <th>1</th>\n",
       "      <td>Sharpe</td>\n",
       "      <td>Sharpe</td>\n",
       "      <td>AVG_returns</td>\n",
       "      <td>0.001648</td>\n",
       "    </tr>\n",
       "    <tr>\n",
       "      <th>2</th>\n",
       "      <td>Tobin</td>\n",
       "      <td>Sharpe</td>\n",
       "      <td>AVG_returns</td>\n",
       "      <td>0.002016</td>\n",
       "    </tr>\n",
       "    <tr>\n",
       "      <th>3</th>\n",
       "      <td>Markowitz</td>\n",
       "      <td>Sortino</td>\n",
       "      <td>AVG_returns</td>\n",
       "      <td>0.001580</td>\n",
       "    </tr>\n",
       "    <tr>\n",
       "      <th>4</th>\n",
       "      <td>Sharpe</td>\n",
       "      <td>Sortino</td>\n",
       "      <td>AVG_returns</td>\n",
       "      <td>0.001661</td>\n",
       "    </tr>\n",
       "    <tr>\n",
       "      <th>...</th>\n",
       "      <td>...</td>\n",
       "      <td>...</td>\n",
       "      <td>...</td>\n",
       "      <td>...</td>\n",
       "    </tr>\n",
       "    <tr>\n",
       "      <th>79</th>\n",
       "      <td>Sharpe</td>\n",
       "      <td>P/S</td>\n",
       "      <td>Recovery(days)</td>\n",
       "      <td>202.000000</td>\n",
       "    </tr>\n",
       "    <tr>\n",
       "      <th>80</th>\n",
       "      <td>Tobin</td>\n",
       "      <td>P/S</td>\n",
       "      <td>Recovery(days)</td>\n",
       "      <td>204.000000</td>\n",
       "    </tr>\n",
       "    <tr>\n",
       "      <th>81</th>\n",
       "      <td>Markowitz</td>\n",
       "      <td>Alpha/Beta</td>\n",
       "      <td>Recovery(days)</td>\n",
       "      <td>128.000000</td>\n",
       "    </tr>\n",
       "    <tr>\n",
       "      <th>82</th>\n",
       "      <td>Sharpe</td>\n",
       "      <td>Alpha/Beta</td>\n",
       "      <td>Recovery(days)</td>\n",
       "      <td>139.000000</td>\n",
       "    </tr>\n",
       "    <tr>\n",
       "      <th>83</th>\n",
       "      <td>Tobin</td>\n",
       "      <td>Alpha/Beta</td>\n",
       "      <td>Recovery(days)</td>\n",
       "      <td>133.000000</td>\n",
       "    </tr>\n",
       "  </tbody>\n",
       "</table>\n",
       "<p>84 rows × 4 columns</p>\n",
       "</div>"
      ],
      "text/plain": [
       "        index      Method        variable       value\n",
       "0   Markowitz      Sharpe     AVG_returns    0.001526\n",
       "1      Sharpe      Sharpe     AVG_returns    0.001648\n",
       "2       Tobin      Sharpe     AVG_returns    0.002016\n",
       "3   Markowitz     Sortino     AVG_returns    0.001580\n",
       "4      Sharpe     Sortino     AVG_returns    0.001661\n",
       "..        ...         ...             ...         ...\n",
       "79     Sharpe         P/S  Recovery(days)  202.000000\n",
       "80      Tobin         P/S  Recovery(days)  204.000000\n",
       "81  Markowitz  Alpha/Beta  Recovery(days)  128.000000\n",
       "82     Sharpe  Alpha/Beta  Recovery(days)  139.000000\n",
       "83      Tobin  Alpha/Beta  Recovery(days)  133.000000\n",
       "\n",
       "[84 rows x 4 columns]"
      ]
     },
     "execution_count": 132,
     "metadata": {},
     "output_type": "execute_result"
    }
   ],
   "source": [
    "avg = melted.loc[melted['variable']=='Risk']\n",
    "sex = avg.loc[avg['Method']=='P/S'].drop(['variable'],axis=1).set_index('index').T\n",
    "melted\n",
    "\n",
    "# plt.bar(sex.columns, height=sex.iloc[1,:])\n",
    "# plt.show()"
   ]
  },
  {
   "cell_type": "code",
   "execution_count": 111,
   "id": "73478858-9464-430e-a9b7-7db62a6ec2b5",
   "metadata": {},
   "outputs": [],
   "source": [
    "ss.to_excel('Data/assets.xlsx')"
   ]
  },
  {
   "cell_type": "code",
   "execution_count": null,
   "id": "c3e9918c-7828-45e3-9a1b-84cf74fe62a6",
   "metadata": {},
   "outputs": [],
   "source": []
  }
 ],
 "metadata": {
  "kernelspec": {
   "display_name": "Python 3 (ipykernel)",
   "language": "python",
   "name": "python3"
  },
  "language_info": {
   "codemirror_mode": {
    "name": "ipython",
    "version": 3
   },
   "file_extension": ".py",
   "mimetype": "text/x-python",
   "name": "python",
   "nbconvert_exporter": "python",
   "pygments_lexer": "ipython3",
   "version": "3.9.13"
  }
 },
 "nbformat": 4,
 "nbformat_minor": 5
}
