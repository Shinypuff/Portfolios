{
 "cells": [
  {
   "cell_type": "code",
   "execution_count": 1,
   "id": "2bd77b7e-24ca-42b9-9d6f-332323b2f51d",
   "metadata": {},
   "outputs": [],
   "source": [
    "import random as rand\n",
    "import json\n",
    "import pandas as pd\n",
    "import numpy as np\n",
    "import yfinance as yf\n",
    "import warnings\n",
    "warnings.filterwarnings('ignore')\n",
    "\n",
    "from datetime import timedelta\n",
    "from datetime import datetime\n",
    "\n",
    "from matplotlib import pyplot as plt\n",
    "from Port.Sharp import SharpPortfolio\n",
    "from Port.Markowitz_scipy import MarkowitzPortfolio\n",
    "from Port.Tobin_scipy import TobinPortfolio"
   ]
  },
  {
   "cell_type": "markdown",
   "id": "f4f185af-5722-42cc-ba16-f2a5556aa5e2",
   "metadata": {
    "tags": []
   },
   "source": [
    "# Загрузка данных для работы"
   ]
  },
  {
   "cell_type": "code",
   "execution_count": 2,
   "id": "71fdbdb9-41b3-4ab7-aa43-13e7f25a7a6a",
   "metadata": {},
   "outputs": [],
   "source": [
    "with open('utils/config.json', 'r') as file:\n",
    "    config = json.load(file)\n",
    "    \n",
    "start = config['start_date']\n",
    "end = config['end_date']\n",
    "riskfree = config['riskless_rate']\n",
    "riskfree_day = ((1+riskfree)**(1/252))-1"
   ]
  },
  {
   "cell_type": "code",
   "execution_count": 7,
   "id": "cebf71c9-f042-4e4f-89c4-7802a147a00e",
   "metadata": {},
   "outputs": [],
   "source": [
    "# def get_sp_data(start=start, end=end):\n",
    "#     # Get the current SP components, and get a tickers list\n",
    "#     sp_assets = pd.read_html(\n",
    "#         'https://en.wikipedia.org/wiki/List_of_S%26P_500_companies')[0]\n",
    "#     assets = sp_assets['Symbol'].str.replace('.', '-').tolist()\n",
    "#     # Download historical data to a multi-index DataFrame\n",
    "#     try:\n",
    "#         data = yf.download(assets, start=start, end=end, as_panel=False)\n",
    "#         filename = 'sp_components_data.pkl'\n",
    "#         data.to_pickle(filename)\n",
    "#         print('Data saved at {}'.format(filename))\n",
    "#     except ValueError:\n",
    "#         print('Failed download, try again.')\n",
    "#         data = None\n",
    "#     return data\n",
    "\n",
    "\n",
    "# if __name__ == '__main__':\n",
    "#     data = get_sp_data()"
   ]
  },
  {
   "cell_type": "code",
   "execution_count": 8,
   "id": "9d2a3f3a-332c-45fa-b356-4c57fa2fa0ae",
   "metadata": {},
   "outputs": [],
   "source": [
    "# pct = data.pct_change().iloc[1:,]\n",
    "# pct.to_excel('returns.xlsx')"
   ]
  },
  {
   "cell_type": "code",
   "execution_count": 20,
   "id": "84fc9954-f8dc-44df-8877-cf693c1d5115",
   "metadata": {},
   "outputs": [],
   "source": [
    "sp500 = pd.read_excel('Data/sp500.xlsx', index_col=0)\n",
    "sp500 = sp500.pct_change().iloc[1: ]\n",
    "pct = pd.read_excel('Data/returns.xlsx', index_col = 0)"
   ]
  },
  {
   "cell_type": "code",
   "execution_count": 10,
   "id": "942e9e75-f30d-4026-bc28-4cf94b504f4e",
   "metadata": {},
   "outputs": [],
   "source": [
    "pct = pct.dropna(axis=1)"
   ]
  },
  {
   "cell_type": "markdown",
   "id": "bd190cca-ce4c-4685-ae38-8f8e422f04c6",
   "metadata": {},
   "source": [
    "# Метрики"
   ]
  },
  {
   "cell_type": "code",
   "execution_count": 11,
   "id": "70055c5e-b116-40e2-83a3-91c0435cd6b6",
   "metadata": {},
   "outputs": [],
   "source": [
    "def get_metrics(df_data):  \n",
    "    metr = pd.DataFrame()\n",
    "    \n",
    "    #Average daily returns\n",
    "    mean = df_data.mean()\n",
    "    metr['AVG_returns'] = mean\n",
    "\n",
    "    #Risk\n",
    "    risk = df_data.std()\n",
    "    metr['Risk'] = risk\n",
    "\n",
    "    #Beta\n",
    "\n",
    "    var_metr = df_data.var()\n",
    "    cov_metr = df_data.cov()\n",
    "    beta = cov_metr['sp500']/var_metr['sp500']\n",
    "\n",
    "    metr['Beta'] = beta\n",
    "\n",
    "    #Alpha\n",
    "\n",
    "    riskf_daily = ((1+riskfree)**(1/252))-1\n",
    "    alpha = metr['AVG_returns'] - (riskf_daily + metr['Beta']*(mean['sp500'] - riskf_daily))\n",
    "    metr['Alpha'] = alpha\n",
    "\n",
    "    #VaR(95%)\n",
    "\n",
    "    VaR = - risk*1.65\n",
    "    metr['VaR(95%)'] = VaR\n",
    "\n",
    "    return metr"
   ]
  },
  {
   "cell_type": "markdown",
   "id": "b77cf607-fb30-4c12-853f-993d2a221cd1",
   "metadata": {
    "tags": []
   },
   "source": [
    "# Бэктест "
   ]
  },
  {
   "cell_type": "code",
   "execution_count": 12,
   "id": "0c3f78bd-082b-4dba-95e9-1c170de1ec3d",
   "metadata": {},
   "outputs": [],
   "source": [
    "def backtesting_universal(data, # df with pct_changes\n",
    "                          port_model = MarkowitzPortfolio,\n",
    "                          window_train = 24, \n",
    "                          window_test = 1,\n",
    "                          train_start_year = 2018, \n",
    "                          train_start_month = 1,\n",
    "                          test_finish_year = 2022,\n",
    "                          test_finish_month = 11,\n",
    "                          **args):\n",
    "    \n",
    "\n",
    "    \n",
    "    weights_year = []\n",
    "    return_portfolio = pd.DataFrame([])\n",
    "    \n",
    "    train_start_month = train_start_year * 12 + train_start_month - 1\n",
    "    test_finish_month = test_finish_year * 12 + test_finish_month - 1\n",
    "    train_finish_month = test_finish_month - window_train - window_test + 1\n",
    "    \n",
    "    for train_start_per in range(train_start_month, train_finish_month, window_test):\n",
    "        \n",
    "        train_finish_per = train_start_per + window_train\n",
    "        \n",
    "        train_year_start_per = train_start_per // 12\n",
    "        train_month_start_per = train_start_per % 12 + 1\n",
    "        \n",
    "        train_year_finish_per = train_finish_per // 12\n",
    "        train_month_finish_per = train_finish_per % 12 + 1\n",
    "        \n",
    "                \n",
    "        mask_train = (data.index > datetime(train_year_start_per, train_month_start_per, 1)) & (data.index < datetime(train_year_finish_per, train_month_finish_per, 1))\n",
    "        data_train_per = data[mask_train]\n",
    "        \n",
    "        \n",
    "        mu = (((data_train_per + 1).prod()) ** (1 / len(data_train_per)) - 1).values * 252  # средняя доходность за год (252 раб дня)\n",
    "        Sigma = data_train_per.cov().values * 252  # ковариационная матрица за год (252 раб дня)\n",
    "\n",
    "        port_ = port_model(mu, Sigma, args=args)\n",
    "        weights, _ = port_.fit()\n",
    "        weights_year.append(weights)\n",
    "        \n",
    "        \n",
    "        test_year_start_per = train_year_finish_per\n",
    "        test_month_start_per = train_month_finish_per\n",
    "        \n",
    "        test_finish_per = train_finish_per + window_test\n",
    "        \n",
    "        test_year_finish_per = test_finish_per // 12\n",
    "        test_month_finish_per = test_finish_per % 12 + 1\n",
    "        \n",
    "        # print(train_year_start_per, train_month_start_per,  train_year_finish_per, train_month_finish_per, test_year_finish_per, test_month_finish_per)\n",
    "        \n",
    "                \n",
    "        mask_test = (data.index > datetime(test_year_start_per, test_month_start_per, 1)) & (data.index < datetime(test_year_finish_per, test_month_finish_per, 1))\n",
    "        data_test_per = data[mask_test]\n",
    "        \n",
    "        #print(data_test_per, weights)\n",
    "        #print(data_test_per.shape, weights.shape)\n",
    "        return_portfolio_loc = pd.DataFrame(data_test_per.values @ weights, index=data_test_per.index,\n",
    "                                            columns=[f'{port_model.__name__}'])\n",
    "        \n",
    "\n",
    "        return_portfolio = pd.concat([return_portfolio, return_portfolio_loc])\n",
    "    \n",
    "    return_portfolio['sp500'] = sp500.loc[return_portfolio.index]\n",
    "\n",
    "    return return_portfolio"
   ]
  },
  {
   "cell_type": "markdown",
   "id": "1cfa89c5-446c-4f32-a5f3-f3825e007247",
   "metadata": {},
   "source": [
    "# Создание портфеля"
   ]
  },
  {
   "cell_type": "code",
   "execution_count": 13,
   "id": "846df143-72ca-447e-bf5f-f26a4b8b4cd1",
   "metadata": {},
   "outputs": [],
   "source": [
    "def get_port(asset_list, portfolio_type = MarkowitzPortfolio, max_risk=1, min_ret=((1+riskfree)**(1/252))-1):\n",
    "    asset_pct = pct[asset_list]\n",
    "    \n",
    "    global risk\n",
    "    global ret \n",
    "    risk = max_risk\n",
    "    ret = min_ret\n",
    "    \n",
    "    asset_rets = backtesting_universal(asset_pct, port_model = portfolio_type, ret_det=ret, risk_det=risk)\n",
    "    \n",
    "    asset_price = (asset_rets+1).cumprod()\n",
    "    plt.plot(asset_price)\n",
    "    plt.show()\n",
    "    return asset_rets, asset_price"
   ]
  },
  {
   "cell_type": "markdown",
   "id": "792a4185-5d28-4d2e-8f46-a39e6740b569",
   "metadata": {},
   "source": [
    "# Baseline"
   ]
  },
  {
   "cell_type": "code",
   "execution_count": 14,
   "id": "8f09e2fa-3ec1-4041-b0da-53f47b538323",
   "metadata": {},
   "outputs": [],
   "source": [
    "all_assets = pct.columns\n",
    "\n",
    "def select_rand(n=1):\n",
    "    rand_ports = pd.DataFrame()\n",
    "    metr = pd.DataFrame()\n",
    "    \n",
    "    for i in range(n):\n",
    "        pick = rand.sample(list(all_assets),20)\n",
    "        assets = pct[pick]\n",
    "        port = backtesting_universal(assets,ret_det=(1 + riskfree)**(1/252) - 1)\n",
    "        jeeja = get_metrics(port).drop('sp500', axis = 0)\n",
    "        metr = pd.concat([metr, jeeja],axis = 0)\n",
    "    return metr\n",
    "\n",
    "x = select_rand(2)\n",
    "# sd = x.mean()\n",
    "# sd"
   ]
  },
  {
   "cell_type": "markdown",
   "id": "fb75b515-7005-47a7-b5db-fd0f4d6a37b5",
   "metadata": {},
   "source": [
    "# Шарп"
   ]
  },
  {
   "cell_type": "code",
   "execution_count": 15,
   "id": "caf782f0-5d33-43a0-bfcd-a5347cd21669",
   "metadata": {},
   "outputs": [],
   "source": [
    "def get_sharpe(df_pct,n):\n",
    "    sharpe = (df_pct.mean() - riskfree_day)/df_pct.std()\n",
    "    sharpe = sharpe.sort_values(ascending=False)\n",
    "    return sharpe.head(n).index.to_list()"
   ]
  },
  {
   "cell_type": "code",
   "execution_count": 16,
   "id": "b1d78899-b5d7-4a59-acbc-dccd68cf8020",
   "metadata": {},
   "outputs": [],
   "source": [
    "sharp_list = get_sharpe(pct, 20)"
   ]
  },
  {
   "cell_type": "code",
   "execution_count": 17,
   "id": "02b8f834-8c19-4272-87bf-48333fd0429a",
   "metadata": {},
   "outputs": [
    {
     "data": {
      "image/png": "[encoded data removed]",
      "text/plain": [
       "<Figure size 640x480 with 1 Axes>"
      ]
     },
     "metadata": {},
     "output_type": "display_data"
    }
   ],
   "source": [
    "sharp_ret, sharp_price = get_port(sharp_list, TobinPortfolio)"
   ]
  },
  {
   "cell_type": "code",
   "execution_count": 60,
   "id": "dc8d2b13-851d-4773-a441-3b0b9b497030",
   "metadata": {},
   "outputs": [
    {
     "data": {
      "text/html": [
       "<div>\n",
       "<style scoped>\n",
       "    .dataframe tbody tr th:only-of-type {\n",
       "        vertical-align: middle;\n",
       "    }\n",
       "\n",
       "    .dataframe tbody tr th {\n",
       "        vertical-align: top;\n",
       "    }\n",
       "\n",
       "    .dataframe thead th {\n",
       "        text-align: right;\n",
       "    }\n",
       "</style>\n",
       "<table border=\"1\" class=\"dataframe\">\n",
       "  <thead>\n",
       "    <tr style=\"text-align: right;\">\n",
       "      <th></th>\n",
       "      <th>AVG_returns</th>\n",
       "      <th>Risk</th>\n",
       "      <th>Beta</th>\n",
       "      <th>Alpha</th>\n",
       "      <th>VaR(95%)</th>\n",
       "    </tr>\n",
       "  </thead>\n",
       "  <tbody>\n",
       "    <tr>\n",
       "      <th>TobinPortfolio</th>\n",
       "      <td>0.003374</td>\n",
       "      <td>0.037448</td>\n",
       "      <td>1.484708</td>\n",
       "      <td>2.861589e-03</td>\n",
       "      <td>-0.061790</td>\n",
       "    </tr>\n",
       "    <tr>\n",
       "      <th>sp500</th>\n",
       "      <td>0.000384</td>\n",
       "      <td>0.016174</td>\n",
       "      <td>1.000000</td>\n",
       "      <td>-4.336809e-19</td>\n",
       "      <td>-0.026687</td>\n",
       "    </tr>\n",
       "  </tbody>\n",
       "</table>\n",
       "</div>"
      ],
      "text/plain": [
       "                AVG_returns      Risk      Beta         Alpha  VaR(95%)\n",
       "TobinPortfolio     0.003374  0.037448  1.484708  2.861589e-03 -0.061790\n",
       "sp500              0.000384  0.016174  1.000000 -4.336809e-19 -0.026687"
      ]
     },
     "execution_count": 60,
     "metadata": {},
     "output_type": "execute_result"
    }
   ],
   "source": [
    "sharp_metr = get_metrics(sharp_ret)\n",
    "sharp_metr"
   ]
  },
  {
   "cell_type": "markdown",
   "id": "4fa7f5d0-7e74-4f85-97a4-49dea7524ac4",
   "metadata": {},
   "source": [
    "# Sortino"
   ]
  },
  {
   "cell_type": "code",
   "execution_count": 13,
   "id": "dc427157-b9d5-4673-b746-84e2d581ab4e",
   "metadata": {},
   "outputs": [],
   "source": [
    "def get_sortino(df_pct,n):\n",
    "    down_risk = pct[pct<0].std()\n",
    "    sortino = (df_pct.mean() - riskfree_day)/down_risk\n",
    "    sortino = sortino.sort_values(ascending=False)\n",
    "    return sortino.head(n).index.to_list()"
   ]
  },
  {
   "cell_type": "code",
   "execution_count": 14,
   "id": "aae3d927-89fa-4439-8e43-76bbf40d9fef",
   "metadata": {},
   "outputs": [],
   "source": [
    "sortino_list = get_sortino(pct,20)"
   ]
  },
  {
   "cell_type": "code",
   "execution_count": 116,
   "id": "b0e450b2-3aa9-4773-8097-10b50c0da3af",
   "metadata": {},
   "outputs": [
    {
     "data": {
      "image/png": "[encoded data removed]",
      "text/plain": [
       "<Figure size 640x480 with 1 Axes>"
      ]
     },
     "metadata": {},
     "output_type": "display_data"
    }
   ],
   "source": [
    "sortino_ret, sortino_price = get_port(sortino_list)"
   ]
  },
  {
   "cell_type": "code",
   "execution_count": 88,
   "id": "9d00cf47-1875-432e-be8b-75dd33e501a2",
   "metadata": {},
   "outputs": [
    {
     "data": {
      "text/html": [
       "<div>\n",
       "<style scoped>\n",
       "    .dataframe tbody tr th:only-of-type {\n",
       "        vertical-align: middle;\n",
       "    }\n",
       "\n",
       "    .dataframe tbody tr th {\n",
       "        vertical-align: top;\n",
       "    }\n",
       "\n",
       "    .dataframe thead th {\n",
       "        text-align: right;\n",
       "    }\n",
       "</style>\n",
       "<table border=\"1\" class=\"dataframe\">\n",
       "  <thead>\n",
       "    <tr style=\"text-align: right;\">\n",
       "      <th></th>\n",
       "      <th>AVG_returns</th>\n",
       "      <th>Risk</th>\n",
       "      <th>Beta</th>\n",
       "      <th>Alpha</th>\n",
       "      <th>VaR(95%)</th>\n",
       "    </tr>\n",
       "  </thead>\n",
       "  <tbody>\n",
       "    <tr>\n",
       "      <th>MarkowitzPortfolio</th>\n",
       "      <td>0.001746</td>\n",
       "      <td>0.021034</td>\n",
       "      <td>1.125092</td>\n",
       "      <td>1.329125e-03</td>\n",
       "      <td>-0.034706</td>\n",
       "    </tr>\n",
       "    <tr>\n",
       "      <th>sp500</th>\n",
       "      <td>0.000384</td>\n",
       "      <td>0.016174</td>\n",
       "      <td>1.000000</td>\n",
       "      <td>-4.336809e-19</td>\n",
       "      <td>-0.026687</td>\n",
       "    </tr>\n",
       "  </tbody>\n",
       "</table>\n",
       "</div>"
      ],
      "text/plain": [
       "                    AVG_returns      Risk      Beta         Alpha  VaR(95%)\n",
       "MarkowitzPortfolio     0.001746  0.021034  1.125092  1.329125e-03 -0.034706\n",
       "sp500                  0.000384  0.016174  1.000000 -4.336809e-19 -0.026687"
      ]
     },
     "execution_count": 88,
     "metadata": {},
     "output_type": "execute_result"
    }
   ],
   "source": [
    "sortino_metr = get_metrics(sortino_ret)\n",
    "sortino_metr"
   ]
  },
  {
   "cell_type": "markdown",
   "id": "34d0e689-e22e-4f47-81fc-f33a47929934",
   "metadata": {},
   "source": [
    "# PEG"
   ]
  },
  {
   "cell_type": "code",
   "execution_count": 63,
   "id": "6de50154-ac2a-4776-b3da-f9208b815a87",
   "metadata": {},
   "outputs": [],
   "source": [
    "# ps_df = pd.DataFrame()\n",
    "\n",
    "# for company in pct.columns:   \n",
    "#     firm = yf.Ticker(company)\n",
    "#     dict =  firm.info\n",
    "#     ps_df[company] = [dict['priceToSalesTrailing12Months']]"
   ]
  },
  {
   "cell_type": "code",
   "execution_count": 64,
   "id": "91cb8dd7-09f4-432b-bcf4-4c9142f0444f",
   "metadata": {},
   "outputs": [],
   "source": [
    "# ps_df = ps_df.T\n",
    "ps_df = pd.read_excel('ps.xlsx', index_col=0)\n",
    "ps_df = ps_df.sort_values(by=0, ascending=0)"
   ]
  },
  {
   "cell_type": "code",
   "execution_count": 65,
   "id": "c6e08d47-0406-4657-9b8d-75c660b2788b",
   "metadata": {},
   "outputs": [],
   "source": [
    "ps_list = list(ps_df.head(20).index)"
   ]
  },
  {
   "cell_type": "code",
   "execution_count": 74,
   "id": "5372b9f1-4c94-4c0f-b891-e67074be9935",
   "metadata": {},
   "outputs": [
    {
     "data": {
      "image/png": "[encoded data removed]",
      "text/plain": [
       "<Figure size 640x480 with 1 Axes>"
      ]
     },
     "metadata": {},
     "output_type": "display_data"
    }
   ],
   "source": [
    "ps_ret, ps_price = get_port(ps_list, SharpPortfolio)"
   ]
  },
  {
   "cell_type": "code",
   "execution_count": 104,
   "id": "b5bacfc0-f040-441e-b52e-2518a14bf3f9",
   "metadata": {},
   "outputs": [],
   "source": [
    "ps_metr = get_metrics(ps_ret)"
   ]
  },
  {
   "cell_type": "markdown",
   "id": "6098538b-365f-40cd-9c25-249488415975",
   "metadata": {},
   "source": [
    "# Alpha/Beta"
   ]
  },
  {
   "cell_type": "code",
   "execution_count": 68,
   "id": "278de52b-b2ab-4d3e-9acd-17a91f36eb46",
   "metadata": {},
   "outputs": [],
   "source": [
    "ab_ratio = pd.DataFrame()\n",
    "\n",
    "pct['sp500']= sp500\n",
    "\n",
    "#Mean\n",
    "\n",
    "mean_pct = pct.mean()\n",
    "\n",
    "#Beta\n",
    "\n",
    "var_pct = pct.var()\n",
    "cov_pct = pct.cov()\n",
    "beta = cov_pct['sp500']/var_pct['sp500']\n",
    "\n",
    "\n",
    "#Alpha\n",
    "\n",
    "riskf_daily = ((1+riskfree)**(1/252))-1\n",
    "alpha = mean_pct - (riskf_daily + beta*(mean_pct['sp500'] - riskf_daily))\n",
    "\n",
    "ab_ratio['Ratio'] = alpha/beta"
   ]
  },
  {
   "cell_type": "code",
   "execution_count": 69,
   "id": "c0340594-cc7e-445c-a703-afbbe03e0523",
   "metadata": {},
   "outputs": [],
   "source": [
    "ab_list = list(ab_ratio.sort_values(by='Ratio', ascending=0).head(20).index)"
   ]
  },
  {
   "cell_type": "code",
   "execution_count": 72,
   "id": "abc8fe91-55bc-42fd-8c05-b3faefaec806",
   "metadata": {},
   "outputs": [
    {
     "data": {
      "image/png": "[encoded data removed]",
      "text/plain": [
       "<Figure size 640x480 with 1 Axes>"
      ]
     },
     "metadata": {},
     "output_type": "display_data"
    }
   ],
   "source": [
    "ab_ret, ab_price = get_port(ab_list, SharpPortfolio)"
   ]
  },
  {
   "cell_type": "code",
   "execution_count": 110,
   "id": "c6549727-71f8-4e9b-b4ce-8868bbe33126",
   "metadata": {},
   "outputs": [],
   "source": [
    "ab_metr = get_metrics(ab_ret)"
   ]
  },
  {
   "cell_type": "markdown",
   "id": "89baff84-0143-4ed1-982b-ac3e947e74ba",
   "metadata": {
    "tags": []
   },
   "source": [
    "#### Создаём датафрейм"
   ]
  },
  {
   "cell_type": "code",
   "execution_count": 193,
   "id": "eb56b56d-d597-48b3-90bc-f6b879247004",
   "metadata": {},
   "outputs": [],
   "source": [
    "pct = pd.read_excel('Data/tick/assets.xlsx', index_col=0)\n",
    "pct = pct.pct_change()\n",
    "pct = pct.iloc[1:,:].dropna(axis = 1)\n",
    "\n",
    "sp500 = pd.read_excel('Data/tick/sp500.xlsx', index_col=0)\n",
    "sp500 = sp500.pct_change().iloc[1: ]"
   ]
  },
  {
   "cell_type": "markdown",
   "id": "0ec37ce5-2ebb-4fa2-b451-afbc0285df50",
   "metadata": {
    "tags": []
   },
   "source": [
    "# Создание словаря с методами кластеризации"
   ]
  },
  {
   "cell_type": "markdown",
   "id": "4843c5ee-111b-4f94-9d82-333ef6866de1",
   "metadata": {
    "tags": []
   },
   "source": [
    "#### Настраиваем размерность (не все активы из prediction_table есть в pct)"
   ]
  },
  {
   "cell_type": "code",
   "execution_count": 35,
   "id": "5c241c00-1569-4797-a1e3-dd0e0497d5a4",
   "metadata": {},
   "outputs": [],
   "source": [
    "need = np.transpose(pct)\n",
    "x = list(set(df.index) - set(need.index))\n",
    "df = df.drop(x, axis = 0)"
   ]
  },
  {
   "cell_type": "code",
   "execution_count": 36,
   "id": "d56773a7-5906-4a2b-8c8d-1098f76f7c3f",
   "metadata": {},
   "outputs": [],
   "source": [
    "cols = df.columns[1:]\n",
    "all_assets = {}\n",
    "for col in cols:\n",
    "    assets = {}\n",
    "    for i in set(df[col].unique()):\n",
    "        assets[i] = list(df.loc[df[col] == i].index.values)\n",
    "    all_assets[col] = assets"
   ]
  },
  {
   "cell_type": "markdown",
   "id": "37ae4c01-d1dd-41e7-8d67-dc6a3ad38bcd",
   "metadata": {
    "tags": []
   },
   "source": [
    "# Создаём словарь с расчётом Шарпа для всех активов в кластере для каждого метода"
   ]
  },
  {
   "cell_type": "code",
   "execution_count": 37,
   "id": "47f32b26-a158-47f0-94c6-f554cb33f1d9",
   "metadata": {},
   "outputs": [],
   "source": [
    "# Словарь имеет вид: { \"метод кластеризации\" : { \"номер кластера\" : { \"актив\" : коэффициент Шарпа} } }\n",
    "\n",
    "def clust_sharpe(dict_assets, df_pct):   \n",
    "    assets_port = {}\n",
    "    \n",
    "    for method in list(dict_assets.keys()):    \n",
    "        clust_method = {}\n",
    "\n",
    "        for cluster in list(dict_assets[method].keys()):\n",
    "            assets_use = {}\n",
    "\n",
    "            for asset in list(dict_assets[method][cluster]):\n",
    "                sharpe = (df_pct[asset].mean() - riskfree)/df_pct[asset].std()\n",
    "                assets_use[asset] = sharpe\n",
    "            \n",
    "            clust_method[cluster] = assets_use\n",
    "        \n",
    "        assets_port[method] = clust_method\n",
    "        \n",
    "    return assets_port"
   ]
  },
  {
   "cell_type": "code",
   "execution_count": 38,
   "id": "27789ee5-e3b7-406b-88b8-22265564ac28",
   "metadata": {},
   "outputs": [],
   "source": [
    "shar = clust_sharpe(all_assets, pct)"
   ]
  },
  {
   "cell_type": "markdown",
   "id": "69b062c4-b2bf-46ea-8904-a3f06229241b",
   "metadata": {},
   "source": [
    "# Выбираем топ 2 актива по Шарпу из каждого кластера и передаём значения в словаь с методами"
   ]
  },
  {
   "cell_type": "code",
   "execution_count": 39,
   "id": "32cdd6e1-db6c-479e-b6eb-a6395b6285c0",
   "metadata": {},
   "outputs": [],
   "source": [
    "def clust_top_sharpe(assets_port):\n",
    "    top2_Sharpe = {}\n",
    "    \n",
    "    for method in list(assets_port.keys()):\n",
    "        list_of_assets = []\n",
    "        \n",
    "        for cluster in list(assets_port[method].keys()):\n",
    "\n",
    "            for asset in list(assets_port[method][cluster].keys()):             \n",
    "                if len(assets_port[method][cluster]) > 2:\n",
    "                    del assets_port[method][cluster][min(assets_port[method][cluster], key = assets_port[method][cluster].get)]\n",
    "            \n",
    "            for asset in list(assets_port[method][cluster].keys()):\n",
    "                list_of_assets.append(asset)\n",
    "                \n",
    "        top2_Sharpe[method] = list_of_assets\n",
    "\n",
    "    return top2_Sharpe       #возвращаем словарь вида { \"метод кластеризации\" : [активы] }"
   ]
  },
  {
   "cell_type": "code",
   "execution_count": 40,
   "id": "b9277b79-8e73-41ae-8acf-e65e6f46e846",
   "metadata": {},
   "outputs": [],
   "source": [
    "ports = clust_top_sharpe(shar)"
   ]
  },
  {
   "cell_type": "markdown",
   "id": "881667fe-c9a1-42d4-beca-16208846183f",
   "metadata": {},
   "source": [
    "# Создаём портфели на основе выбранных тикеров"
   ]
  },
  {
   "cell_type": "markdown",
   "id": "90a05006-997f-48b9-b6c3-b362a7b1c9e1",
   "metadata": {
    "tags": []
   },
   "source": [
    "#### Определяем функцию для создания портфелей"
   ]
  },
  {
   "cell_type": "code",
   "execution_count": 41,
   "id": "87ab788c-180d-4407-aa80-20f1a0cb487c",
   "metadata": {},
   "outputs": [],
   "source": [
    "def calc_ports(test, riskless_ret, index, mu, sigma):\n",
    "    sharp_values, markov_values, tobin_values, traynor_values, qsharp_values = [], [], [], [], []\n",
    "    \n",
    "    # Расчёт Шарпа\n",
    "    \n",
    "    sharp = SharpPortfolio(mu, sigma, riskless_ret)\n",
    "    s = sharp.fit()[0]\n",
    "\n",
    "    \n",
    "    # Расчёт Марковица\n",
    "   \n",
    "    markov = MarkowitzPortfolio(mu, sigma, index.mean())\n",
    "    m = markov.fit()[0]\n",
    "\n",
    "    # Расчёт Тобина\n",
    "\n",
    "    tobin = TobinPortfolio(mu, sigma, riskless_ret, index.std())\n",
    "    t = tobin.fit()[0]\n",
    "    \n",
    "    #Расчёт тривиального портфеля\n",
    "    \n",
    "    n = len(list(test.columns))\n",
    "    triv = [1/n]*n\n",
    "\n",
    "\n",
    "    df_all_ports = pd.DataFrame({'Ticker':list(test.columns),\n",
    "                                 'Sharpe':s,\n",
    "                                 'Markowitz':m,\n",
    "                                 'Tobin':t,\n",
    "                                 'Trivial':triv})\n",
    "    return df_all_ports"
   ]
  },
  {
   "cell_type": "markdown",
   "id": "94859bf2-20b7-4e65-9fcf-1e81e5e64939",
   "metadata": {
    "tags": []
   },
   "source": [
    "#### (тест работы функции)"
   ]
  },
  {
   "cell_type": "code",
   "execution_count": 42,
   "id": "7486e249-55aa-4368-ad62-22003648df71",
   "metadata": {},
   "outputs": [],
   "source": [
    "# train = pct.iloc[:len(pct)//2,] #первая половина периода"
   ]
  },
  {
   "cell_type": "code",
   "execution_count": 43,
   "id": "4b743965-d20f-4ce8-bf19-58a1f118460b",
   "metadata": {},
   "outputs": [],
   "source": [
    "# test = train[ports['original_n']]\n",
    "# riskless_ret = (1 + riskfree)**(1/252) - 1\n",
    "# index = sp500.iloc[:len(pct)//2,]\n",
    "\n",
    "# mu = test.mean().values\n",
    "# sigma = test.cov().values\n",
    "\n",
    "# dict_ports = calc_ports(test, riskless_ret, index, mu, sigma)\n",
    "# dict_ports = dict_ports.sort_values('Ticker')\n",
    "# dict_ports"
   ]
  },
  {
   "cell_type": "code",
   "execution_count": 44,
   "id": "d3892e58-5eeb-427d-8a25-96860763d155",
   "metadata": {},
   "outputs": [],
   "source": [
    "# pred = pct.iloc[len(pct)//2: ,]\n",
    "# pred = pred[pred.columns.intersection(ports['orig__rando'])]\n",
    "# pred.mul(list(dict_ports['Sharpe']), axis = 1)\n",
    "# pred['orig__rando'] = pred.sum(axis = 1)"
   ]
  },
  {
   "cell_type": "markdown",
   "id": "00aa763a-49ac-4ae7-8a53-b2190b9a4247",
   "metadata": {
    "tags": []
   },
   "source": [
    "# Составляем портфели на \"будущее\" на основе трейна"
   ]
  },
  {
   "cell_type": "markdown",
   "id": "f9435e72-f596-40a5-aef4-16b55fd6be36",
   "metadata": {
    "tags": []
   },
   "source": [
    "#### Backtesting"
   ]
  },
  {
   "cell_type": "code",
   "execution_count": 45,
   "id": "a1fdcae2-5042-4833-9bee-f1dc3c59dc50",
   "metadata": {},
   "outputs": [],
   "source": [
    "# def backtesting_universal(data, # df with pct_changes\n",
    "#                           port_model,\n",
    "#                           window_train = 24, \n",
    "#                           window_test = 1, \n",
    "#                           period_iteration = 1,\n",
    "#                           train_start_year = 2018, \n",
    "#                           train_start_month = 1,\n",
    "#                           test_finish_year = 2022,\n",
    "#                           test_finish_month = 11,\n",
    "#                           **args):\n",
    "    \n",
    "#     weights_year = []\n",
    "#     return_portfolio = pd.DataFrame([])\n",
    "    \n",
    "#     train_start_month = train_start_year * 12 + train_start_month - 1\n",
    "#     test_finish_month = test_finish_year * 12 + test_finish_month - 1\n",
    "#     train_finish_month = test_finish_month - window_train - window_test + 1\n",
    "    \n",
    "#     for train_start_per in range(train_start_month, train_finish_month, period_iteration):\n",
    "        \n",
    "#         train_finish_per = train_start_per + window_train\n",
    "        \n",
    "#         train_year_start_per = train_start_per // 12\n",
    "#         train_month_start_per = train_start_per % 12 + 1\n",
    "        \n",
    "#         train_year_finish_per = train_finish_per // 12\n",
    "#         train_month_finish_per = train_finish_per % 12 + 1\n",
    "        \n",
    "                \n",
    "#         mask_train = (data.index > datetime(train_year_start_per, train_month_start_per, 1)) & (data.index < datetime(train_year_finish_per, train_month_finish_per, 1))\n",
    "#         data_train_per = data[mask_train]\n",
    "        \n",
    "        \n",
    "#         mu = (((data_train_per + 1).prod()) ** (1 / len(data_train_per)) - 1).values * 252  # средняя доходность за год (252 раб дня)\n",
    "#         Sigma = data_train_per.cov().values * 252  # ковариационная матрица за год (252 раб дня)\n",
    "\n",
    "#         port_ = port_model(mu, Sigma, args=args)\n",
    "#         weights, _ = port_.fit()\n",
    "#         weights_year.append(weights)\n",
    "        \n",
    "        \n",
    "#         test_year_start_per = train_year_finish_per\n",
    "#         test_month_start_per = train_month_finish_per\n",
    "        \n",
    "#         test_finish_per = train_finish_per + window_test\n",
    "        \n",
    "#         test_year_finish_per = test_finish_per // 12\n",
    "#         test_month_finish_per = test_finish_per % 12 + 1\n",
    "        \n",
    "#         print(train_year_start_per, train_month_start_per,  train_year_finish_per, train_month_finish_per, test_year_finish_per, test_month_finish_per)\n",
    "        \n",
    "                \n",
    "#         mask_test = (data.index > datetime(test_year_start_per, test_month_start_per, 1)) & (data.index < datetime(test_year_finish_per, test_month_finish_per, 1))\n",
    "#         data_test_per = data[mask_test]\n",
    "        \n",
    "#         #print(data_test_per, weights)\n",
    "#         #print(data_test_per.shape, weights.shape)\n",
    "#         return_portfolio_loc = pd.DataFrame(data_test_per.values @ weights, index=data_test_per.index,\n",
    "#                                             columns=['portfolio'])\n",
    "        \n",
    "\n",
    "#         return_portfolio = pd.concat([return_portfolio, return_portfolio_loc])\n",
    "\n",
    "#     return weights_year, return_portfolio\n",
    "\n",
    "        "
   ]
  },
  {
   "cell_type": "markdown",
   "id": "89f44d17-c8d5-45a5-b5f9-4bef7bd40195",
   "metadata": {},
   "source": [
    "#### Моё"
   ]
  },
  {
   "cell_type": "code",
   "execution_count": null,
   "id": "8f0db736-4910-4a22-9776-811498372085",
   "metadata": {},
   "outputs": [],
   "source": [
    "def backtesting_universal(data, # df with pct_changes\n",
    "                          port_model = MarkowitzPortfolio,\n",
    "                          window_train = 24, \n",
    "                          window_test = 1, \n",
    "                          train_start_year = 2018, \n",
    "                          train_start_month = 1,\n",
    "                          test_finish_year = 2022,\n",
    "                          test_finish_month = 11,\n",
    "                          **args):\n",
    "    \n",
    "    weights_year = []\n",
    "    return_portfolio = pd.DataFrame([])\n",
    "    \n",
    "    train_start_month = train_start_year * 12 + train_start_month - 1\n",
    "    test_finish_month = test_finish_year * 12 + test_finish_month - 1\n",
    "    train_finish_month = test_finish_month - window_train - window_test + 1\n",
    "    \n",
    "    for train_start_per in range(train_start_month, train_finish_month, window_test):\n",
    "        \n",
    "        train_finish_per = train_start_per + window_train\n",
    "        \n",
    "        train_year_start_per = train_start_per // 12\n",
    "        train_month_start_per = train_start_per % 12 + 1\n",
    "        \n",
    "        train_year_finish_per = train_finish_per // 12\n",
    "        train_month_finish_per = train_finish_per % 12 + 1\n",
    "        \n",
    "                \n",
    "        mask_train = (data.index > datetime(train_year_start_per, train_month_start_per, 1)) & (data.index < datetime(train_year_finish_per, train_month_finish_per, 1))\n",
    "        data_train_per = data[mask_train]\n",
    "        \n",
    "        \n",
    "        mu = (((data_train_per + 1).prod()) ** (1 / len(data_train_per)) - 1).values * 252  # средняя доходность за год (252 раб дня)\n",
    "        Sigma = data_train_per.cov().values * 252  # ковариационная матрица за год (252 раб дня)\n",
    "\n",
    "        port_ = port_model(mu, Sigma, args=args)\n",
    "        weights, _ = port_.fit()\n",
    "        weights_year.append(weights)\n",
    "        \n",
    "        \n",
    "        test_year_start_per = train_year_finish_per\n",
    "        test_month_start_per = train_month_finish_per\n",
    "        \n",
    "        test_finish_per = train_finish_per + window_test\n",
    "        \n",
    "        test_year_finish_per = test_finish_per // 12\n",
    "        test_month_finish_per = test_finish_per % 12 + 1\n",
    "        \n",
    "        print(train_year_start_per, train_month_start_per,  train_year_finish_per, train_month_finish_per, test_year_finish_per, test_month_finish_per)\n",
    "        \n",
    "                \n",
    "        mask_test = (data.index > datetime(test_year_start_per, test_month_start_per, 1)) & (data.index < datetime(test_year_finish_per, test_month_finish_per, 1))\n",
    "        data_test_per = data[mask_test]\n",
    "        \n",
    "        #print(data_test_per, weights)\n",
    "        #print(data_test_per.shape, weights.shape)\n",
    "        return_portfolio_loc = pd.DataFrame(data_test_per.values @ weights, index=data_test_per.index,\n",
    "                                            columns=[f'{port_model}'])\n",
    "        \n",
    "\n",
    "        return_portfolio = pd.concat([return_portfolio, return_portfolio_loc])\n",
    "    \n",
    "    return_portfolio['sp500'] = sp500.loc[return_portfolio.index]\n",
    "\n",
    "    return weights_year, return_portfolio   "
   ]
  },
  {
   "cell_type": "markdown",
   "id": "19bffa12-ad30-459c-b3e7-c960ac4341c1",
   "metadata": {},
   "source": [
    "#### Моя реализация бэктеста"
   ]
  },
  {
   "cell_type": "code",
   "execution_count": 79,
   "id": "e6d568fe-ad87-44e8-95e7-068aa35eaeec",
   "metadata": {},
   "outputs": [],
   "source": [
    "def backtest(clustering_method, portfolio_type):\n",
    "    \n",
    "    backtest_input = pct[ports[clustering_method]]\n",
    "    \n",
    "    weights, port_return = backtesting_universal(backtest_input, portfolio_type, window_test=3, ret_det=((1 + 0.03)**(1/252) - 1), test_finish_year=2022,\n",
    "                              test_finish_month=10)\n",
    "    return port_return"
   ]
  },
  {
   "cell_type": "code",
   "execution_count": 80,
   "id": "9455403a-a742-449c-9bdc-4518095c475b",
   "metadata": {},
   "outputs": [],
   "source": [
    "# x = ports['orig__Agglo']\n",
    "# x = pct[x]\n",
    "# x = (x+1).cumprod()\n",
    "# plt.plot(x, label=list(x.columns))\n",
    "# plt.show()"
   ]
  },
  {
   "cell_type": "code",
   "execution_count": 81,
   "id": "d5fdb46a-648a-4edd-89db-d0ebc6ba9345",
   "metadata": {},
   "outputs": [
    {
     "ename": "NameError",
     "evalue": "name 'ports' is not defined",
     "output_type": "error",
     "traceback": [
      "\u001b[0;31m---------------------------------------------------------------------------\u001b[0m",
      "\u001b[0;31mNameError\u001b[0m                                 Traceback (most recent call last)",
      "\u001b[0;32m/var/folders/qr/3tvqb00x4731fvdx1qvsrlcr0000gn/T/ipykernel_13787/184660511.py\u001b[0m in \u001b[0;36m<module>\u001b[0;34m\u001b[0m\n\u001b[0;32m----> 1\u001b[0;31m \u001b[0mweigh\u001b[0m\u001b[0;34m,\u001b[0m\u001b[0mret\u001b[0m \u001b[0;34m=\u001b[0m \u001b[0mbacktest\u001b[0m\u001b[0;34m(\u001b[0m\u001b[0;34m'orig__Agglo'\u001b[0m\u001b[0;34m,\u001b[0m \u001b[0mMarkowitzPortfolio\u001b[0m\u001b[0;34m)\u001b[0m\u001b[0;34m\u001b[0m\u001b[0;34m\u001b[0m\u001b[0m\n\u001b[0m\u001b[1;32m      2\u001b[0m \u001b[0mret\u001b[0m\u001b[0;34m[\u001b[0m\u001b[0;34m'sp500'\u001b[0m\u001b[0;34m]\u001b[0m \u001b[0;34m=\u001b[0m \u001b[0msp500\u001b[0m\u001b[0;34m.\u001b[0m\u001b[0mloc\u001b[0m\u001b[0;34m[\u001b[0m\u001b[0mret\u001b[0m\u001b[0;34m.\u001b[0m\u001b[0mindex\u001b[0m\u001b[0;34m]\u001b[0m\u001b[0;34m\u001b[0m\u001b[0;34m\u001b[0m\u001b[0m\n\u001b[1;32m      3\u001b[0m \u001b[0mret\u001b[0m\u001b[0;34m\u001b[0m\u001b[0;34m\u001b[0m\u001b[0m\n",
      "\u001b[0;32m/var/folders/qr/3tvqb00x4731fvdx1qvsrlcr0000gn/T/ipykernel_13787/1240094971.py\u001b[0m in \u001b[0;36mbacktest\u001b[0;34m(clustering_method, portfolio_type)\u001b[0m\n\u001b[1;32m      1\u001b[0m \u001b[0;32mdef\u001b[0m \u001b[0mbacktest\u001b[0m\u001b[0;34m(\u001b[0m\u001b[0mclustering_method\u001b[0m\u001b[0;34m,\u001b[0m \u001b[0mportfolio_type\u001b[0m\u001b[0;34m)\u001b[0m\u001b[0;34m:\u001b[0m\u001b[0;34m\u001b[0m\u001b[0;34m\u001b[0m\u001b[0m\n\u001b[1;32m      2\u001b[0m \u001b[0;34m\u001b[0m\u001b[0m\n\u001b[0;32m----> 3\u001b[0;31m     \u001b[0mbacktest_input\u001b[0m \u001b[0;34m=\u001b[0m \u001b[0mpct\u001b[0m\u001b[0;34m[\u001b[0m\u001b[0mports\u001b[0m\u001b[0;34m[\u001b[0m\u001b[0mclustering_method\u001b[0m\u001b[0;34m]\u001b[0m\u001b[0;34m]\u001b[0m\u001b[0;34m\u001b[0m\u001b[0;34m\u001b[0m\u001b[0m\n\u001b[0m\u001b[1;32m      4\u001b[0m \u001b[0;34m\u001b[0m\u001b[0m\n\u001b[1;32m      5\u001b[0m     weights, port_return = backtesting_universal(backtest_input, portfolio_type, window_test=3, ret_det=((1 + 0.03)**(1/252) - 1), test_finish_year=2022,\n",
      "\u001b[0;31mNameError\u001b[0m: name 'ports' is not defined"
     ]
    }
   ],
   "source": [
    "weigh,ret = backtest('orig__Agglo', MarkowitzPortfolio)\n",
    "ret['sp500'] = sp500.loc[ret.index]\n",
    "ret"
   ]
  },
  {
   "cell_type": "code",
   "execution_count": null,
   "id": "97e94a9d-d79b-4b15-9301-504eb9d02f1e",
   "metadata": {},
   "outputs": [],
   "source": [
    "(ret+1).cumprod().plot()"
   ]
  },
  {
   "cell_type": "markdown",
   "id": "87cac824-7595-4b57-aeaf-bd62c68afe68",
   "metadata": {},
   "source": [
    "#### Оригинальный расчёт Петра"
   ]
  },
  {
   "cell_type": "code",
   "execution_count": 53,
   "id": "fb9ea286-b144-46a5-891f-0ed430cf6490",
   "metadata": {},
   "outputs": [
    {
     "name": "stdout",
     "output_type": "stream",
     "text": [
      "2018 1 2020 1 2020 4\n",
      "2018 4 2020 4 2020 7\n",
      "2018 7 2020 7 2020 10\n",
      "2018 10 2020 10 2021 1\n",
      "2019 1 2021 1 2021 4\n",
      "2019 4 2021 4 2021 7\n",
      "2019 7 2021 7 2021 10\n",
      "2019 10 2021 10 2022 1\n"
     ]
    },
    {
     "ename": "KeyboardInterrupt",
     "evalue": "",
     "output_type": "error",
     "traceback": [
      "\u001b[0;31m---------------------------------------------------------------------------\u001b[0m",
      "\u001b[0;31mKeyboardInterrupt\u001b[0m                         Traceback (most recent call last)",
      "\u001b[0;32m/var/folders/qr/3tvqb00x4731fvdx1qvsrlcr0000gn/T/ipykernel_80450/2671353885.py\u001b[0m in \u001b[0;36m<module>\u001b[0;34m\u001b[0m\n\u001b[0;32m----> 1\u001b[0;31m weights, port_return = backtesting_universal(pct, MarkowitzPortfolio, window_test=3, ret_det=0.03, test_finish_year=2022,\n\u001b[0m\u001b[1;32m      2\u001b[0m                           test_finish_month=10)\n",
      "\u001b[0;32m/var/folders/qr/3tvqb00x4731fvdx1qvsrlcr0000gn/T/ipykernel_80450/3425041199.py\u001b[0m in \u001b[0;36mbacktesting_universal\u001b[0;34m(data, port_model, window_train, window_test, train_start_year, train_start_month, test_finish_year, test_finish_month, **args)\u001b[0m\n\u001b[1;32m     36\u001b[0m \u001b[0;34m\u001b[0m\u001b[0m\n\u001b[1;32m     37\u001b[0m         \u001b[0mport_\u001b[0m \u001b[0;34m=\u001b[0m \u001b[0mport_model\u001b[0m\u001b[0;34m(\u001b[0m\u001b[0mmu\u001b[0m\u001b[0;34m,\u001b[0m \u001b[0mSigma\u001b[0m\u001b[0;34m,\u001b[0m \u001b[0margs\u001b[0m\u001b[0;34m=\u001b[0m\u001b[0margs\u001b[0m\u001b[0;34m)\u001b[0m\u001b[0;34m\u001b[0m\u001b[0;34m\u001b[0m\u001b[0m\n\u001b[0;32m---> 38\u001b[0;31m         \u001b[0mweights\u001b[0m\u001b[0;34m,\u001b[0m \u001b[0m_\u001b[0m \u001b[0;34m=\u001b[0m \u001b[0mport_\u001b[0m\u001b[0;34m.\u001b[0m\u001b[0mfit\u001b[0m\u001b[0;34m(\u001b[0m\u001b[0;34m)\u001b[0m\u001b[0;34m\u001b[0m\u001b[0;34m\u001b[0m\u001b[0m\n\u001b[0m\u001b[1;32m     39\u001b[0m         \u001b[0mweights_year\u001b[0m\u001b[0;34m.\u001b[0m\u001b[0mappend\u001b[0m\u001b[0;34m(\u001b[0m\u001b[0mweights\u001b[0m\u001b[0;34m)\u001b[0m\u001b[0;34m\u001b[0m\u001b[0;34m\u001b[0m\u001b[0m\n\u001b[1;32m     40\u001b[0m \u001b[0;34m\u001b[0m\u001b[0m\n",
      "\u001b[0;32m~/Desktop/Лаб/Cluster/Port/Markowitz_scipy.py\u001b[0m in \u001b[0;36mfit\u001b[0;34m(self)\u001b[0m\n\u001b[1;32m     32\u001b[0m         \u001b[0mcon2\u001b[0m \u001b[0;34m=\u001b[0m \u001b[0;34m{\u001b[0m\u001b[0;34m'type'\u001b[0m\u001b[0;34m:\u001b[0m \u001b[0;34m'eq'\u001b[0m\u001b[0;34m,\u001b[0m \u001b[0;34m'fun'\u001b[0m\u001b[0;34m:\u001b[0m \u001b[0mconstraint2\u001b[0m\u001b[0;34m}\u001b[0m  \u001b[0;31m# передача условий в функцию  риска(подготовка)\u001b[0m\u001b[0;34m\u001b[0m\u001b[0;34m\u001b[0m\u001b[0m\n\u001b[1;32m     33\u001b[0m         \u001b[0mcons\u001b[0m \u001b[0;34m=\u001b[0m \u001b[0;34m[\u001b[0m\u001b[0mcon1\u001b[0m\u001b[0;34m,\u001b[0m \u001b[0mcon2\u001b[0m\u001b[0;34m]\u001b[0m  \u001b[0;31m# передача условий в функцию  риска(подготовка)\u001b[0m\u001b[0;34m\u001b[0m\u001b[0;34m\u001b[0m\u001b[0m\n\u001b[0;32m---> 34\u001b[0;31m         sol = minimize(objective, x0, method='SLSQP', \\\n\u001b[0m\u001b[1;32m     35\u001b[0m                        bounds=bnds, constraints=cons)\n\u001b[1;32m     36\u001b[0m \u001b[0;34m\u001b[0m\u001b[0m\n",
      "\u001b[0;32m~/opt/anaconda3/lib/python3.9/site-packages/scipy/optimize/_minimize.py\u001b[0m in \u001b[0;36mminimize\u001b[0;34m(fun, x0, args, method, jac, hess, hessp, bounds, constraints, tol, callback, options)\u001b[0m\n\u001b[1;32m    706\u001b[0m                                 **options)\n\u001b[1;32m    707\u001b[0m     \u001b[0;32melif\u001b[0m \u001b[0mmeth\u001b[0m \u001b[0;34m==\u001b[0m \u001b[0;34m'slsqp'\u001b[0m\u001b[0;34m:\u001b[0m\u001b[0;34m\u001b[0m\u001b[0;34m\u001b[0m\u001b[0m\n\u001b[0;32m--> 708\u001b[0;31m         res = _minimize_slsqp(fun, x0, args, jac, bounds,\n\u001b[0m\u001b[1;32m    709\u001b[0m                               constraints, callback=callback, **options)\n\u001b[1;32m    710\u001b[0m     \u001b[0;32melif\u001b[0m \u001b[0mmeth\u001b[0m \u001b[0;34m==\u001b[0m \u001b[0;34m'trust-constr'\u001b[0m\u001b[0;34m:\u001b[0m\u001b[0;34m\u001b[0m\u001b[0;34m\u001b[0m\u001b[0m\n",
      "\u001b[0;32m~/opt/anaconda3/lib/python3.9/site-packages/scipy/optimize/_slsqp_py.py\u001b[0m in \u001b[0;36m_minimize_slsqp\u001b[0;34m(func, x0, args, jac, bounds, constraints, maxiter, ftol, iprint, disp, eps, callback, finite_diff_rel_step, **unknown_options)\u001b[0m\n\u001b[1;32m    420\u001b[0m     \u001b[0;32mwhile\u001b[0m \u001b[0;36m1\u001b[0m\u001b[0;34m:\u001b[0m\u001b[0;34m\u001b[0m\u001b[0;34m\u001b[0m\u001b[0m\n\u001b[1;32m    421\u001b[0m         \u001b[0;31m# Call SLSQP\u001b[0m\u001b[0;34m\u001b[0m\u001b[0;34m\u001b[0m\u001b[0m\n\u001b[0;32m--> 422\u001b[0;31m         slsqp(m, meq, x, xl, xu, fx, c, g, a, acc, majiter, mode, w, jw,\n\u001b[0m\u001b[1;32m    423\u001b[0m               \u001b[0malpha\u001b[0m\u001b[0;34m,\u001b[0m \u001b[0mf0\u001b[0m\u001b[0;34m,\u001b[0m \u001b[0mgs\u001b[0m\u001b[0;34m,\u001b[0m \u001b[0mh1\u001b[0m\u001b[0;34m,\u001b[0m \u001b[0mh2\u001b[0m\u001b[0;34m,\u001b[0m \u001b[0mh3\u001b[0m\u001b[0;34m,\u001b[0m \u001b[0mh4\u001b[0m\u001b[0;34m,\u001b[0m \u001b[0mt\u001b[0m\u001b[0;34m,\u001b[0m \u001b[0mt0\u001b[0m\u001b[0;34m,\u001b[0m \u001b[0mtol\u001b[0m\u001b[0;34m,\u001b[0m\u001b[0;34m\u001b[0m\u001b[0;34m\u001b[0m\u001b[0m\n\u001b[1;32m    424\u001b[0m               \u001b[0miexact\u001b[0m\u001b[0;34m,\u001b[0m \u001b[0mincons\u001b[0m\u001b[0;34m,\u001b[0m \u001b[0mireset\u001b[0m\u001b[0;34m,\u001b[0m \u001b[0mitermx\u001b[0m\u001b[0;34m,\u001b[0m \u001b[0mline\u001b[0m\u001b[0;34m,\u001b[0m\u001b[0;34m\u001b[0m\u001b[0;34m\u001b[0m\u001b[0m\n",
      "\u001b[0;31mKeyboardInterrupt\u001b[0m: "
     ]
    }
   ],
   "source": [
    "weights, port_return = backtesting_universal(pct, MarkowitzPortfolio, window_test=3, ret_det=0.03, test_finish_year=2022,\n",
    "                          test_finish_month=10)"
   ]
  },
  {
   "cell_type": "code",
   "execution_count": null,
   "id": "39998ac4",
   "metadata": {},
   "outputs": [],
   "source": [
    "(port_return+1).cumprod().plot()"
   ]
  },
  {
   "cell_type": "code",
   "execution_count": 16,
   "id": "9af92052-68c9-417f-80db-f1f3ed51ea3b",
   "metadata": {},
   "outputs": [],
   "source": [
    "tr_period = len(pct)//2 \n",
    "\n",
    "train = pct.iloc[:tr_period,] #первая половина периода"
   ]
  },
  {
   "cell_type": "markdown",
   "id": "6a5fae1d-6fa1-4ca1-b69a-22c845d1516a",
   "metadata": {
    "tags": []
   },
   "source": [
    "#### Создаём функцию для расчёта доходностей любого портфеля для всех видов кластеризации"
   ]
  },
  {
   "cell_type": "code",
   "execution_count": 37,
   "id": "120dc10f-367a-4821-b8f3-5c5f9d8c5000",
   "metadata": {},
   "outputs": [],
   "source": [
    "def port_res(portfolio): \n",
    "    \n",
    "    output = pd.DataFrame()\n",
    "    output.index = pct.iloc[tr_period: ,].index\n",
    "    output['sp500'] = sp500.iloc[tr_period:,]\n",
    "    \n",
    "    for method in list(ports.keys()):\n",
    "\n",
    "        #Определяем настройки тренировки\n",
    "\n",
    "        test = train[ports[method]]\n",
    "        riskless_ret = (1 + riskfree)**(1/252) - 1\n",
    "        index = sp500.iloc[:tr_period,]\n",
    "        mu = test.mean().values\n",
    "        sigma = test.cov().values\n",
    "\n",
    "        #Тренируем данные\n",
    "\n",
    "        dict_ports = calc_ports(test, riskless_ret, index, mu, sigma)\n",
    "        dict_ports = dict_ports.sort_values('Ticker')\n",
    "\n",
    "        #Применяем веса для второй половины периода\n",
    "\n",
    "        pred = pct.iloc[tr_period: ,]\n",
    "        pred = pred[pred.columns.intersection(ports[method])]\n",
    "        total = pred @ list(dict_ports[portfolio])\n",
    "        pred[method] = total\n",
    "        output = pd.concat([output, pred[method]], axis = 1)\n",
    "    \n",
    "    return output"
   ]
  },
  {
   "cell_type": "markdown",
   "id": "a9fad3cf-d427-4474-8cd8-7465ffcca25c",
   "metadata": {
    "tags": []
   },
   "source": [
    "#### Сходим с ума"
   ]
  },
  {
   "cell_type": "code",
   "execution_count": 42,
   "id": "f5525fe0-5ee6-4710-a768-28462f07f78a",
   "metadata": {},
   "outputs": [],
   "source": [
    "# S = port_res('Sharpe')\n",
    "# S.to_excel('Results/Sharpe_res.xlsx')"
   ]
  },
  {
   "cell_type": "code",
   "execution_count": 43,
   "id": "f81030a2-8edc-4cd8-936e-1aaff186c0b2",
   "metadata": {},
   "outputs": [],
   "source": [
    "# T = port_res('Tobin')\n",
    "# T.to_excel('Results/Tobin_res.xlsx')"
   ]
  },
  {
   "cell_type": "code",
   "execution_count": 59,
   "id": "e2c89cdc-2605-43ac-bbad-14aa656c03e2",
   "metadata": {},
   "outputs": [],
   "source": [
    "# M = port_res('Markowitz')\n",
    "# M.to_excel('Results/Markowitz_res.xlsx')"
   ]
  },
  {
   "cell_type": "markdown",
   "id": "d5840e9c-44e4-4a56-843c-5f60f068e592",
   "metadata": {},
   "source": [
    "# Подсчёт метрик"
   ]
  },
  {
   "cell_type": "code",
   "execution_count": 111,
   "id": "cf127b63-a497-4fdc-a9c9-ee0ae9597842",
   "metadata": {},
   "outputs": [],
   "source": [
    "Metrics = pd.DataFrame()"
   ]
  },
  {
   "cell_type": "markdown",
   "id": "c181f286-921e-4292-93c1-7e8b83f1301a",
   "metadata": {},
   "source": [
    "#### Определяем функцию для подсчёта метрик"
   ]
  },
  {
   "cell_type": "code",
   "execution_count": 112,
   "id": "a451464e-5687-4535-80ff-a4911ee3bf9a",
   "metadata": {},
   "outputs": [],
   "source": [
    "# def calc_metrics(name): \n",
    "    \n",
    "#     metr = pd.read_excel(f'Results/{name}_res.xlsx', index_col=0)\n",
    "    \n",
    "#     #Average daily returns\n",
    "#     mean = metr.mean()\n",
    "#     Metrics['AVG_returns'] = mean \n",
    "\n",
    "#     #Risk\n",
    "#     risk = metr.std()\n",
    "#     Metrics['Risk'] = risk\n",
    "\n",
    "#     #Beta\n",
    "\n",
    "#     var_metr = metr.var()\n",
    "#     cov_metr = metr.cov()\n",
    "#     beta = cov_metr['sp500']/var_metr\n",
    "\n",
    "#     Metrics['Beta'] = beta\n",
    "\n",
    "#     #Alpha\n",
    "\n",
    "#     riskf_daily = ((1+riskfree)**(1/252))-1\n",
    "#     alpha = Metrics['AVG_returns'] - (riskf_daily + Metrics['Beta']*(Metrics.loc['sp500', 'AVG_returns'] - riskf_daily))\n",
    "#     Metrics['Alpha'] = alpha\n",
    "\n",
    "#     #VaR(95%)\n",
    "\n",
    "#     VaR = - risk*1.65\n",
    "#     Metrics['VaR(95%)'] = VaR\n",
    "    \n",
    "#     Metrics['Portfolio'] = name\n",
    "    \n",
    "#     return Metrics"
   ]
  },
  {
   "cell_type": "code",
   "execution_count": 194,
   "id": "1fb1cd7f-4967-4821-a9d9-b4a5ffd6fb08",
   "metadata": {},
   "outputs": [
    {
     "data": {
      "text/html": [
       "<div>\n",
       "<style scoped>\n",
       "    .dataframe tbody tr th:only-of-type {\n",
       "        vertical-align: middle;\n",
       "    }\n",
       "\n",
       "    .dataframe tbody tr th {\n",
       "        vertical-align: top;\n",
       "    }\n",
       "\n",
       "    .dataframe thead th {\n",
       "        text-align: right;\n",
       "    }\n",
       "</style>\n",
       "<table border=\"1\" class=\"dataframe\">\n",
       "  <thead>\n",
       "    <tr style=\"text-align: right;\">\n",
       "      <th></th>\n",
       "      <th>AVG_returns</th>\n",
       "      <th>Risk</th>\n",
       "      <th>Beta</th>\n",
       "      <th>VaR(95%)</th>\n",
       "      <th>Alpha</th>\n",
       "    </tr>\n",
       "  </thead>\n",
       "  <tbody>\n",
       "    <tr>\n",
       "      <th>portfolio</th>\n",
       "      <td>0.00146</td>\n",
       "      <td>0.036795</td>\n",
       "      <td>0.31585</td>\n",
       "      <td>-0.060712</td>\n",
       "      <td>0.001235</td>\n",
       "    </tr>\n",
       "  </tbody>\n",
       "</table>\n",
       "</div>"
      ],
      "text/plain": [
       "           AVG_returns      Risk     Beta  VaR(95%)     Alpha\n",
       "portfolio      0.00146  0.036795  0.31585 -0.060712  0.001235"
      ]
     },
     "execution_count": 194,
     "metadata": {},
     "output_type": "execute_result"
    }
   ],
   "source": [
    "# metr = pd.read_excel(f'Results/{name}_res.xlsx', index_col=0)\n",
    "metr = rets\n",
    "    \n",
    "#Average daily returns\n",
    "mean = metr.mean()\n",
    "Metrics['AVG_returns'] = mean\n",
    "\n",
    "#Risk\n",
    "risk = metr.std()\n",
    "Metrics['Risk'] = risk\n",
    "\n",
    "    #Beta\n",
    "\n",
    "var_metr = metr.var()\n",
    "cov_metr = metr.cov()\n",
    "beta = cov_metr['sp500']/var_metr['sp500']\n",
    "\n",
    "Metrics['Beta'] = beta\n",
    "\n",
    "    #Alpha\n",
    "\n",
    "riskf_daily = ((1+riskfree)**(1/252))-1\n",
    "alpha = Metrics['AVG_returns'] - (riskf_daily + Metrics['Beta']*(mean['sp500'] - riskf_daily))\n",
    "Metrics['Alpha'] = alpha\n",
    "\n",
    "    #VaR(95%)\n",
    "\n",
    "VaR = - risk*1.65\n",
    "Metrics['VaR(95%)'] = VaR\n",
    "    \n",
    "# Metrics['Portfolio'] = rets['']\n",
    "Metrics"
   ]
  },
  {
   "cell_type": "code",
   "execution_count": 195,
   "id": "968d378b-2529-4fb7-96a1-e812b0162c19",
   "metadata": {},
   "outputs": [
    {
     "ename": "KeyError",
     "evalue": "'sp500'",
     "output_type": "error",
     "traceback": [
      "\u001b[0;31m---------------------------------------------------------------------------\u001b[0m",
      "\u001b[0;31mKeyError\u001b[0m                                  Traceback (most recent call last)",
      "\u001b[0;32m~/opt/anaconda3/lib/python3.9/site-packages/pandas/core/indexes/base.py\u001b[0m in \u001b[0;36mget_loc\u001b[0;34m(self, key, method, tolerance)\u001b[0m\n\u001b[1;32m   3628\u001b[0m             \u001b[0;32mtry\u001b[0m\u001b[0;34m:\u001b[0m\u001b[0;34m\u001b[0m\u001b[0;34m\u001b[0m\u001b[0m\n\u001b[0;32m-> 3629\u001b[0;31m                 \u001b[0;32mreturn\u001b[0m \u001b[0mself\u001b[0m\u001b[0;34m.\u001b[0m\u001b[0m_engine\u001b[0m\u001b[0;34m.\u001b[0m\u001b[0mget_loc\u001b[0m\u001b[0;34m(\u001b[0m\u001b[0mcasted_key\u001b[0m\u001b[0;34m)\u001b[0m\u001b[0;34m\u001b[0m\u001b[0;34m\u001b[0m\u001b[0m\n\u001b[0m\u001b[1;32m   3630\u001b[0m             \u001b[0;32mexcept\u001b[0m \u001b[0mKeyError\u001b[0m \u001b[0;32mas\u001b[0m \u001b[0merr\u001b[0m\u001b[0;34m:\u001b[0m\u001b[0;34m\u001b[0m\u001b[0;34m\u001b[0m\u001b[0m\n",
      "\u001b[0;32m~/opt/anaconda3/lib/python3.9/site-packages/pandas/_libs/index.pyx\u001b[0m in \u001b[0;36mpandas._libs.index.IndexEngine.get_loc\u001b[0;34m()\u001b[0m\n",
      "\u001b[0;32m~/opt/anaconda3/lib/python3.9/site-packages/pandas/_libs/index.pyx\u001b[0m in \u001b[0;36mpandas._libs.index.IndexEngine.get_loc\u001b[0;34m()\u001b[0m\n",
      "\u001b[0;32mpandas/_libs/hashtable_class_helper.pxi\u001b[0m in \u001b[0;36mpandas._libs.hashtable.PyObjectHashTable.get_item\u001b[0;34m()\u001b[0m\n",
      "\u001b[0;32mpandas/_libs/hashtable_class_helper.pxi\u001b[0m in \u001b[0;36mpandas._libs.hashtable.PyObjectHashTable.get_item\u001b[0;34m()\u001b[0m\n",
      "\u001b[0;31mKeyError\u001b[0m: 'sp500'",
      "\nThe above exception was the direct cause of the following exception:\n",
      "\u001b[0;31mKeyError\u001b[0m                                  Traceback (most recent call last)",
      "\u001b[0;32m/var/folders/qr/3tvqb00x4731fvdx1qvsrlcr0000gn/T/ipykernel_75877/3711003616.py\u001b[0m in \u001b[0;36m<module>\u001b[0;34m\u001b[0m\n\u001b[0;32m----> 1\u001b[0;31m \u001b[0mx\u001b[0m \u001b[0;34m=\u001b[0m \u001b[0mcalc_metrics\u001b[0m\u001b[0;34m(\u001b[0m\u001b[0mrets\u001b[0m\u001b[0;34m)\u001b[0m\u001b[0;34m\u001b[0m\u001b[0;34m\u001b[0m\u001b[0m\n\u001b[0m\u001b[1;32m      2\u001b[0m \u001b[0mx\u001b[0m\u001b[0;34m\u001b[0m\u001b[0;34m\u001b[0m\u001b[0m\n",
      "\u001b[0;32m/var/folders/qr/3tvqb00x4731fvdx1qvsrlcr0000gn/T/ipykernel_75877/238397627.py\u001b[0m in \u001b[0;36mcalc_metrics\u001b[0;34m(name)\u001b[0m\n\u001b[1;32m     24\u001b[0m \u001b[0;34m\u001b[0m\u001b[0m\n\u001b[1;32m     25\u001b[0m     \u001b[0mriskf_daily\u001b[0m \u001b[0;34m=\u001b[0m \u001b[0;34m(\u001b[0m\u001b[0;34m(\u001b[0m\u001b[0;36m1\u001b[0m\u001b[0;34m+\u001b[0m\u001b[0mriskfree\u001b[0m\u001b[0;34m)\u001b[0m\u001b[0;34m**\u001b[0m\u001b[0;34m(\u001b[0m\u001b[0;36m1\u001b[0m\u001b[0;34m/\u001b[0m\u001b[0;36m252\u001b[0m\u001b[0;34m)\u001b[0m\u001b[0;34m)\u001b[0m\u001b[0;34m-\u001b[0m\u001b[0;36m1\u001b[0m\u001b[0;34m\u001b[0m\u001b[0;34m\u001b[0m\u001b[0m\n\u001b[0;32m---> 26\u001b[0;31m     \u001b[0malpha\u001b[0m \u001b[0;34m=\u001b[0m \u001b[0mMetrics\u001b[0m\u001b[0;34m[\u001b[0m\u001b[0;34m'AVG_returns'\u001b[0m\u001b[0;34m]\u001b[0m \u001b[0;34m-\u001b[0m \u001b[0;34m(\u001b[0m\u001b[0mriskf_daily\u001b[0m \u001b[0;34m+\u001b[0m \u001b[0mMetrics\u001b[0m\u001b[0;34m[\u001b[0m\u001b[0;34m'Beta'\u001b[0m\u001b[0;34m]\u001b[0m\u001b[0;34m*\u001b[0m\u001b[0;34m(\u001b[0m\u001b[0mMetrics\u001b[0m\u001b[0;34m.\u001b[0m\u001b[0mloc\u001b[0m\u001b[0;34m[\u001b[0m\u001b[0;34m'sp500'\u001b[0m\u001b[0;34m,\u001b[0m \u001b[0;34m'AVG_returns'\u001b[0m\u001b[0;34m]\u001b[0m \u001b[0;34m-\u001b[0m \u001b[0mriskf_daily\u001b[0m\u001b[0;34m)\u001b[0m\u001b[0;34m)\u001b[0m\u001b[0;34m\u001b[0m\u001b[0;34m\u001b[0m\u001b[0m\n\u001b[0m\u001b[1;32m     27\u001b[0m     \u001b[0mMetrics\u001b[0m\u001b[0;34m[\u001b[0m\u001b[0;34m'Alpha'\u001b[0m\u001b[0;34m]\u001b[0m \u001b[0;34m=\u001b[0m \u001b[0malpha\u001b[0m\u001b[0;34m\u001b[0m\u001b[0;34m\u001b[0m\u001b[0m\n\u001b[1;32m     28\u001b[0m \u001b[0;34m\u001b[0m\u001b[0m\n",
      "\u001b[0;32m~/opt/anaconda3/lib/python3.9/site-packages/pandas/core/indexing.py\u001b[0m in \u001b[0;36m__getitem__\u001b[0;34m(self, key)\u001b[0m\n\u001b[1;32m    958\u001b[0m             \u001b[0mkey\u001b[0m \u001b[0;34m=\u001b[0m \u001b[0mtuple\u001b[0m\u001b[0;34m(\u001b[0m\u001b[0mcom\u001b[0m\u001b[0;34m.\u001b[0m\u001b[0mapply_if_callable\u001b[0m\u001b[0;34m(\u001b[0m\u001b[0mx\u001b[0m\u001b[0;34m,\u001b[0m \u001b[0mself\u001b[0m\u001b[0;34m.\u001b[0m\u001b[0mobj\u001b[0m\u001b[0;34m)\u001b[0m \u001b[0;32mfor\u001b[0m \u001b[0mx\u001b[0m \u001b[0;32min\u001b[0m \u001b[0mkey\u001b[0m\u001b[0;34m)\u001b[0m\u001b[0;34m\u001b[0m\u001b[0;34m\u001b[0m\u001b[0m\n\u001b[1;32m    959\u001b[0m             \u001b[0;32mif\u001b[0m \u001b[0mself\u001b[0m\u001b[0;34m.\u001b[0m\u001b[0m_is_scalar_access\u001b[0m\u001b[0;34m(\u001b[0m\u001b[0mkey\u001b[0m\u001b[0;34m)\u001b[0m\u001b[0;34m:\u001b[0m\u001b[0;34m\u001b[0m\u001b[0;34m\u001b[0m\u001b[0m\n\u001b[0;32m--> 960\u001b[0;31m                 \u001b[0;32mreturn\u001b[0m \u001b[0mself\u001b[0m\u001b[0;34m.\u001b[0m\u001b[0mobj\u001b[0m\u001b[0;34m.\u001b[0m\u001b[0m_get_value\u001b[0m\u001b[0;34m(\u001b[0m\u001b[0;34m*\u001b[0m\u001b[0mkey\u001b[0m\u001b[0;34m,\u001b[0m \u001b[0mtakeable\u001b[0m\u001b[0;34m=\u001b[0m\u001b[0mself\u001b[0m\u001b[0;34m.\u001b[0m\u001b[0m_takeable\u001b[0m\u001b[0;34m)\u001b[0m\u001b[0;34m\u001b[0m\u001b[0;34m\u001b[0m\u001b[0m\n\u001b[0m\u001b[1;32m    961\u001b[0m             \u001b[0;32mreturn\u001b[0m \u001b[0mself\u001b[0m\u001b[0;34m.\u001b[0m\u001b[0m_getitem_tuple\u001b[0m\u001b[0;34m(\u001b[0m\u001b[0mkey\u001b[0m\u001b[0;34m)\u001b[0m\u001b[0;34m\u001b[0m\u001b[0;34m\u001b[0m\u001b[0m\n\u001b[1;32m    962\u001b[0m         \u001b[0;32melse\u001b[0m\u001b[0;34m:\u001b[0m\u001b[0;34m\u001b[0m\u001b[0;34m\u001b[0m\u001b[0m\n",
      "\u001b[0;32m~/opt/anaconda3/lib/python3.9/site-packages/pandas/core/frame.py\u001b[0m in \u001b[0;36m_get_value\u001b[0;34m(self, index, col, takeable)\u001b[0m\n\u001b[1;32m   3620\u001b[0m             \u001b[0;31m#  results if our categories are integers that dont match our codes\u001b[0m\u001b[0;34m\u001b[0m\u001b[0;34m\u001b[0m\u001b[0m\n\u001b[1;32m   3621\u001b[0m             \u001b[0;31m# IntervalIndex: IntervalTree has no get_loc\u001b[0m\u001b[0;34m\u001b[0m\u001b[0;34m\u001b[0m\u001b[0m\n\u001b[0;32m-> 3622\u001b[0;31m             \u001b[0mrow\u001b[0m \u001b[0;34m=\u001b[0m \u001b[0mself\u001b[0m\u001b[0;34m.\u001b[0m\u001b[0mindex\u001b[0m\u001b[0;34m.\u001b[0m\u001b[0mget_loc\u001b[0m\u001b[0;34m(\u001b[0m\u001b[0mindex\u001b[0m\u001b[0;34m)\u001b[0m\u001b[0;34m\u001b[0m\u001b[0;34m\u001b[0m\u001b[0m\n\u001b[0m\u001b[1;32m   3623\u001b[0m             \u001b[0;32mreturn\u001b[0m \u001b[0mseries\u001b[0m\u001b[0;34m.\u001b[0m\u001b[0m_values\u001b[0m\u001b[0;34m[\u001b[0m\u001b[0mrow\u001b[0m\u001b[0;34m]\u001b[0m\u001b[0;34m\u001b[0m\u001b[0;34m\u001b[0m\u001b[0m\n\u001b[1;32m   3624\u001b[0m \u001b[0;34m\u001b[0m\u001b[0m\n",
      "\u001b[0;32m~/opt/anaconda3/lib/python3.9/site-packages/pandas/core/indexes/base.py\u001b[0m in \u001b[0;36mget_loc\u001b[0;34m(self, key, method, tolerance)\u001b[0m\n\u001b[1;32m   3629\u001b[0m                 \u001b[0;32mreturn\u001b[0m \u001b[0mself\u001b[0m\u001b[0;34m.\u001b[0m\u001b[0m_engine\u001b[0m\u001b[0;34m.\u001b[0m\u001b[0mget_loc\u001b[0m\u001b[0;34m(\u001b[0m\u001b[0mcasted_key\u001b[0m\u001b[0;34m)\u001b[0m\u001b[0;34m\u001b[0m\u001b[0;34m\u001b[0m\u001b[0m\n\u001b[1;32m   3630\u001b[0m             \u001b[0;32mexcept\u001b[0m \u001b[0mKeyError\u001b[0m \u001b[0;32mas\u001b[0m \u001b[0merr\u001b[0m\u001b[0;34m:\u001b[0m\u001b[0;34m\u001b[0m\u001b[0;34m\u001b[0m\u001b[0m\n\u001b[0;32m-> 3631\u001b[0;31m                 \u001b[0;32mraise\u001b[0m \u001b[0mKeyError\u001b[0m\u001b[0;34m(\u001b[0m\u001b[0mkey\u001b[0m\u001b[0;34m)\u001b[0m \u001b[0;32mfrom\u001b[0m \u001b[0merr\u001b[0m\u001b[0;34m\u001b[0m\u001b[0;34m\u001b[0m\u001b[0m\n\u001b[0m\u001b[1;32m   3632\u001b[0m             \u001b[0;32mexcept\u001b[0m \u001b[0mTypeError\u001b[0m\u001b[0;34m:\u001b[0m\u001b[0;34m\u001b[0m\u001b[0;34m\u001b[0m\u001b[0m\n\u001b[1;32m   3633\u001b[0m                 \u001b[0;31m# If we have a listlike key, _check_indexing_error will raise\u001b[0m\u001b[0;34m\u001b[0m\u001b[0;34m\u001b[0m\u001b[0m\n",
      "\u001b[0;31mKeyError\u001b[0m: 'sp500'"
     ]
    }
   ],
   "source": [
    "x = calc_metrics(rets)"
   ]
  },
  {
   "cell_type": "code",
   "execution_count": 62,
   "id": "6b8b4f69-0c4d-430e-a55b-0bafdf9ee7e1",
   "metadata": {},
   "outputs": [],
   "source": [
    "all_metrics = pd.DataFrame()\n",
    "\n",
    "for name in ['Sharpe','Markowitz','Tobin']:   \n",
    "    x = calc_metrics(name) \n",
    "    all_metrics = pd.concat([all_metrics,x], axis=0)\n",
    "\n",
    "all_metrics.to_excel('Results/Metrics.xlsx')"
   ]
  },
  {
   "cell_type": "markdown",
   "id": "6f612f33-a043-4cb7-900d-5d0e482de611",
   "metadata": {
    "tags": []
   },
   "source": [
    "#### (тестируем кринж)"
   ]
  },
  {
   "cell_type": "code",
   "execution_count": 159,
   "id": "7d6347f3-8d38-4335-abce-9e3bc279e02d",
   "metadata": {},
   "outputs": [],
   "source": [
    "# #orig__rando\n",
    "# #original_n\n",
    "# pred = pct.iloc[len(pct)//2: ,]\n",
    "# pred = pred[pred.columns.intersection(ports['orig__rando'])]\n",
    "# x = pred @ list(dict_ports['Tobin'])\n",
    "# pred['orig__rando'] = pred.sum(axis = 1)\n",
    "# # pred.to_excel('1488.xlsx')\n",
    "# # dict_ports.to_excel('jeeja.xlsx')"
   ]
  },
  {
   "cell_type": "markdown",
   "id": "265d4ca8-db9c-4da5-b1fc-6bad020aa570",
   "metadata": {
    "tags": []
   },
   "source": [
    "# Эксперимент"
   ]
  },
  {
   "cell_type": "markdown",
   "id": "7a162dba-92ad-48e7-a084-21aa685f1718",
   "metadata": {
    "tags": []
   },
   "source": [
    "### Создание сабсемплов с рандомными активами"
   ]
  },
  {
   "cell_type": "code",
   "execution_count": 271,
   "id": "549a0772-a983-42b8-aa43-525cd5f28bff",
   "metadata": {},
   "outputs": [],
   "source": [
    "copy = pct.columns\n",
    "subsample = {i:[] for i in range(10)}\n",
    "\n",
    "for i in range(10):\n",
    "    x = rand.sample(list(copy), 50)\n",
    "    subsample[i].append(x)\n",
    "    copy = list(set(copy) - set(x))\n",
    "    if len(copy) < 50:\n",
    "        subsample[i+1].append(copy)\n",
    "        break"
   ]
  },
  {
   "cell_type": "markdown",
   "id": "0c5f945d-0a36-460e-816b-b73d7a8065da",
   "metadata": {
    "tags": []
   },
   "source": [
    "### Выбираем из каждого сабсемпла 2 лучшие акции по Шарпу"
   ]
  },
  {
   "cell_type": "code",
   "execution_count": 272,
   "id": "fd764f72-979d-49f3-a0d7-2942a94303b6",
   "metadata": {},
   "outputs": [],
   "source": [
    "def choose_best_assets(dict_subsample, df_pct):\n",
    "    assets_to_port = []\n",
    "    for group in dict_subsample.keys():\n",
    "            dict_with_sharp = {}\n",
    "            # sharp = 0\n",
    "            first_sharp = -10\n",
    "            second_sharp = -20\n",
    "            # считаем Шарпа для каждой акции\n",
    "            for asset in dict_subsample[group][0]:\n",
    "                tickers_pct = df_pct[asset]\n",
    "                sharp = (tickers_pct.mean() - riskfree)/tickers_pct.std()\n",
    "                dict_with_sharp[sharp] = asset\n",
    "                \n",
    "            # выбираем 2 лучших акции\n",
    "            for sharp in dict_with_sharp.keys():\n",
    "                if first_sharp < sharp:\n",
    "                    second_sharp = first_sharp\n",
    "                    first_sharp = sharp\n",
    "                elif first_sharp > sharp and second_sharp < sharp:\n",
    "                    second_sharp = sharp\n",
    "            assets_to_port.append(dict_with_sharp[first_sharp])\n",
    "            assets_to_port.append(dict_with_sharp[second_sharp])\n",
    "    return assets_to_port "
   ]
  },
  {
   "cell_type": "code",
   "execution_count": 273,
   "id": "b45d4860-fea9-43c6-ac9f-a8aa3953d117",
   "metadata": {},
   "outputs": [
    {
     "name": "stdout",
     "output_type": "stream",
     "text": [
      "['NCLH', 'SEDG', 'AMD', 'EXPE', 'ENPH', 'MGM', 'TSLA', 'PVH', 'HAL', 'SLB', 'CZR', 'OXY', 'BBWI', 'BA', 'MRO', 'TWTR', 'APA', 'DVN', 'PENN', 'ETSY']\n"
     ]
    }
   ],
   "source": [
    "exp_assets = {}\n",
    "exp_assets = choose_best_assets(subsample, pct)\n",
    "print(exp_assets)"
   ]
  },
  {
   "cell_type": "code",
   "execution_count": 274,
   "id": "59ab0191-fab4-4708-90db-b0c356195b7e",
   "metadata": {},
   "outputs": [],
   "source": [
    "rand_port = pct.loc[:, exp_assets]"
   ]
  },
  {
   "cell_type": "code",
   "execution_count": 47,
   "id": "b790f76c-e985-4465-8fef-a688dad466fa",
   "metadata": {},
   "outputs": [
    {
     "ename": "NameError",
     "evalue": "name 'rand_port' is not defined",
     "output_type": "error",
     "traceback": [
      "\u001b[0;31m---------------------------------------------------------------------------\u001b[0m",
      "\u001b[0;31mNameError\u001b[0m                                 Traceback (most recent call last)",
      "\u001b[0;32m/var/folders/qr/3tvqb00x4731fvdx1qvsrlcr0000gn/T/ipykernel_1898/1078280822.py\u001b[0m in \u001b[0;36m<module>\u001b[0;34m\u001b[0m\n\u001b[0;32m----> 1\u001b[0;31m \u001b[0mtest\u001b[0m \u001b[0;34m=\u001b[0m \u001b[0mrand_port\u001b[0m\u001b[0;34m\u001b[0m\u001b[0;34m\u001b[0m\u001b[0m\n\u001b[0m\u001b[1;32m      2\u001b[0m \u001b[0mriskless_ret\u001b[0m \u001b[0;34m=\u001b[0m \u001b[0;36m0.03\u001b[0m\u001b[0;34m\u001b[0m\u001b[0;34m\u001b[0m\u001b[0m\n\u001b[1;32m      3\u001b[0m \u001b[0mindex\u001b[0m \u001b[0;34m=\u001b[0m \u001b[0msp500\u001b[0m\u001b[0;34m\u001b[0m\u001b[0;34m\u001b[0m\u001b[0m\n\u001b[1;32m      4\u001b[0m \u001b[0mmu\u001b[0m \u001b[0;34m=\u001b[0m \u001b[0mrand_port\u001b[0m\u001b[0;34m.\u001b[0m\u001b[0mmean\u001b[0m\u001b[0;34m(\u001b[0m\u001b[0;34m)\u001b[0m\u001b[0;34m.\u001b[0m\u001b[0mvalues\u001b[0m\u001b[0;34m\u001b[0m\u001b[0;34m\u001b[0m\u001b[0m\n\u001b[1;32m      5\u001b[0m \u001b[0msigma\u001b[0m \u001b[0;34m=\u001b[0m \u001b[0mrand_port\u001b[0m\u001b[0;34m.\u001b[0m\u001b[0mcov\u001b[0m\u001b[0;34m(\u001b[0m\u001b[0;34m)\u001b[0m\u001b[0;34m.\u001b[0m\u001b[0mvalues\u001b[0m\u001b[0;34m\u001b[0m\u001b[0;34m\u001b[0m\u001b[0m\n",
      "\u001b[0;31mNameError\u001b[0m: name 'rand_port' is not defined"
     ]
    }
   ],
   "source": [
    "test = rand_port\n",
    "riskless_ret = 0.03\n",
    "index = sp500\n",
    "mu = rand_port.mean().values\n",
    "sigma = rand_port.cov().values\n",
    "\n",
    "marl = MarkowitzPortfolio(mu, sigma, index)\n",
    "m_values = marl.fit()\n",
    "m_values"
   ]
  },
  {
   "cell_type": "code",
   "execution_count": 517,
   "id": "32e94763-f765-446d-b2c4-5d2add10db25",
   "metadata": {},
   "outputs": [],
   "source": [
    "def calc_ports(test, riskless_ret, index, mu, sigma):\n",
    "    sharp_values, markov_values, tobin_values, traynor_values, qsharp_values = [], [], [], [], []\n",
    "    # Расчет Шарпа\n",
    "    sharp = SharpPortfolio(mu, sigma, riskless_ret)\n",
    "    sh_values = test @ sharp.fit()\n",
    "    for value in sh_values:\n",
    "        sharp_values.append(value)\n",
    "\n",
    "    # Расчет Марковица\n",
    "    markov = MarkovPortfolio(mu, sigma, index)\n",
    "    m_values = test @ markov.fit()\n",
    "    for value in m_values:\n",
    "        markov_values.append(value)\n",
    "\n",
    "    # Расчет Тобина\n",
    "\n",
    "    tobin = TobinPortfolio(mu, sigma, riskless_ret, index.std())\n",
    "    tob_values = test @ tobin.fit()\n",
    "    for value in tob_values:\n",
    "        tobin_values.append(value)\n",
    "\n",
    "\n",
    "    df_all_ports = pd.DataFrame({'Date':test.index,\n",
    "                                 'Sharpe':sharp_values,\n",
    "                                 'Markovitz':markov_values,\n",
    "                                 'Tobin':tobin_values})\n",
    "    return df_all_ports"
   ]
  },
  {
   "cell_type": "code",
   "execution_count": 46,
   "id": "ce4d7e7d-e1a8-4351-90bb-b76ebbb6cda5",
   "metadata": {},
   "outputs": [
    {
     "ename": "NameError",
     "evalue": "name 'rand_port' is not defined",
     "output_type": "error",
     "traceback": [
      "\u001b[0;31m---------------------------------------------------------------------------\u001b[0m",
      "\u001b[0;31mNameError\u001b[0m                                 Traceback (most recent call last)",
      "\u001b[0;32m/var/folders/qr/3tvqb00x4731fvdx1qvsrlcr0000gn/T/ipykernel_1898/3628006175.py\u001b[0m in \u001b[0;36m<module>\u001b[0;34m\u001b[0m\n\u001b[0;32m----> 1\u001b[0;31m \u001b[0mrand_port\u001b[0m\u001b[0;34m\u001b[0m\u001b[0;34m\u001b[0m\u001b[0m\n\u001b[0m",
      "\u001b[0;31mNameError\u001b[0m: name 'rand_port' is not defined"
     ]
    }
   ],
   "source": [
    "rand_port"
   ]
  },
  {
   "cell_type": "code",
   "execution_count": 518,
   "id": "35a96cac-c559-400c-b9a7-8596b8e86859",
   "metadata": {},
   "outputs": [
    {
     "name": "stdout",
     "output_type": "stream",
     "text": [
      "-0.940224660862199 0.0436521841486374\n"
     ]
    },
    {
     "data": {
      "text/html": [
       "<div>\n",
       "<style scoped>\n",
       "    .dataframe tbody tr th:only-of-type {\n",
       "        vertical-align: middle;\n",
       "    }\n",
       "\n",
       "    .dataframe tbody tr th {\n",
       "        vertical-align: top;\n",
       "    }\n",
       "\n",
       "    .dataframe thead th {\n",
       "        text-align: right;\n",
       "    }\n",
       "</style>\n",
       "<table border=\"1\" class=\"dataframe\">\n",
       "  <thead>\n",
       "    <tr style=\"text-align: right;\">\n",
       "      <th></th>\n",
       "      <th>Date</th>\n",
       "      <th>Sharpe</th>\n",
       "      <th>Markovitz</th>\n",
       "      <th>Tobin</th>\n",
       "    </tr>\n",
       "  </thead>\n",
       "  <tbody>\n",
       "    <tr>\n",
       "      <th>0</th>\n",
       "      <td>2018-10-24</td>\n",
       "      <td>-0.054099</td>\n",
       "      <td>-0.050695</td>\n",
       "      <td>-0.055432</td>\n",
       "    </tr>\n",
       "    <tr>\n",
       "      <th>1</th>\n",
       "      <td>2018-10-25</td>\n",
       "      <td>0.031255</td>\n",
       "      <td>0.038857</td>\n",
       "      <td>0.032864</td>\n",
       "    </tr>\n",
       "    <tr>\n",
       "      <th>2</th>\n",
       "      <td>2018-10-26</td>\n",
       "      <td>-0.020479</td>\n",
       "      <td>-0.000138</td>\n",
       "      <td>-0.047727</td>\n",
       "    </tr>\n",
       "    <tr>\n",
       "      <th>3</th>\n",
       "      <td>2018-10-29</td>\n",
       "      <td>-0.028277</td>\n",
       "      <td>0.001057</td>\n",
       "      <td>-0.009547</td>\n",
       "    </tr>\n",
       "    <tr>\n",
       "      <th>4</th>\n",
       "      <td>2018-10-30</td>\n",
       "      <td>0.030237</td>\n",
       "      <td>0.012600</td>\n",
       "      <td>0.021687</td>\n",
       "    </tr>\n",
       "    <tr>\n",
       "      <th>...</th>\n",
       "      <td>...</td>\n",
       "      <td>...</td>\n",
       "      <td>...</td>\n",
       "      <td>...</td>\n",
       "    </tr>\n",
       "    <tr>\n",
       "      <th>1006</th>\n",
       "      <td>2022-10-24</td>\n",
       "      <td>0.010645</td>\n",
       "      <td>-0.000038</td>\n",
       "      <td>0.005159</td>\n",
       "    </tr>\n",
       "    <tr>\n",
       "      <th>1007</th>\n",
       "      <td>2022-10-25</td>\n",
       "      <td>0.021828</td>\n",
       "      <td>0.048256</td>\n",
       "      <td>0.048520</td>\n",
       "    </tr>\n",
       "    <tr>\n",
       "      <th>1008</th>\n",
       "      <td>2022-10-26</td>\n",
       "      <td>0.010817</td>\n",
       "      <td>0.048558</td>\n",
       "      <td>0.098950</td>\n",
       "    </tr>\n",
       "    <tr>\n",
       "      <th>1009</th>\n",
       "      <td>2022-10-27</td>\n",
       "      <td>0.000925</td>\n",
       "      <td>0.018926</td>\n",
       "      <td>0.048686</td>\n",
       "    </tr>\n",
       "    <tr>\n",
       "      <th>1010</th>\n",
       "      <td>2022-10-28</td>\n",
       "      <td>0.018297</td>\n",
       "      <td>0.006828</td>\n",
       "      <td>-0.002712</td>\n",
       "    </tr>\n",
       "  </tbody>\n",
       "</table>\n",
       "<p>1011 rows × 4 columns</p>\n",
       "</div>"
      ],
      "text/plain": [
       "           Date    Sharpe  Markovitz     Tobin\n",
       "0    2018-10-24 -0.054099  -0.050695 -0.055432\n",
       "1    2018-10-25  0.031255   0.038857  0.032864\n",
       "2    2018-10-26 -0.020479  -0.000138 -0.047727\n",
       "3    2018-10-29 -0.028277   0.001057 -0.009547\n",
       "4    2018-10-30  0.030237   0.012600  0.021687\n",
       "...         ...       ...        ...       ...\n",
       "1006 2022-10-24  0.010645  -0.000038  0.005159\n",
       "1007 2022-10-25  0.021828   0.048256  0.048520\n",
       "1008 2022-10-26  0.010817   0.048558  0.098950\n",
       "1009 2022-10-27  0.000925   0.018926  0.048686\n",
       "1010 2022-10-28  0.018297   0.006828 -0.002712\n",
       "\n",
       "[1011 rows x 4 columns]"
      ]
     },
     "execution_count": 518,
     "metadata": {},
     "output_type": "execute_result"
    }
   ],
   "source": [
    "dict_ports = {}\n",
    "\n",
    "test = rand_port\n",
    "riskless_ret = 0.03\n",
    "index = sp500\n",
    "mu = rand_port.mean().values\n",
    "sigma = rand_port.cov().values\n",
    "\n",
    "dict_port = calc_ports(test, riskless_ret, index, mu, sigma)\n",
    "dict_port"
   ]
  },
  {
   "cell_type": "markdown",
   "id": "638c2277-770a-45b0-a408-4576b76d74d7",
   "metadata": {
    "jp-MarkdownHeadingCollapsed": true,
    "tags": []
   },
   "source": [
    "## Создаём датафрейм для этих активов"
   ]
  },
  {
   "cell_type": "code",
   "execution_count": null,
   "id": "6c125dfc-8e42-4125-9a86-c4267c895f07",
   "metadata": {},
   "outputs": [],
   "source": []
  },
  {
   "cell_type": "code",
   "execution_count": 198,
   "id": "225aee67-183f-46d4-b631-4a88c32e6729",
   "metadata": {},
   "outputs": [
    {
     "ename": "NameError",
     "evalue": "name 'EfficientFrontier' is not defined",
     "output_type": "error",
     "traceback": [
      "\u001b[0;31m---------------------------------------------------------------------------\u001b[0m",
      "\u001b[0;31mNameError\u001b[0m                                 Traceback (most recent call last)",
      "\u001b[0;32m/var/folders/qr/3tvqb00x4731fvdx1qvsrlcr0000gn/T/ipykernel_84931/292392121.py\u001b[0m in \u001b[0;36m<module>\u001b[0;34m\u001b[0m\n\u001b[1;32m      1\u001b[0m \u001b[0;31m#######SHARPE#######\u001b[0m\u001b[0;34m\u001b[0m\u001b[0;34m\u001b[0m\u001b[0m\n\u001b[1;32m      2\u001b[0m \u001b[0;34m\u001b[0m\u001b[0m\n\u001b[0;32m----> 3\u001b[0;31m \u001b[0mef\u001b[0m \u001b[0;34m=\u001b[0m \u001b[0mEfficientFrontier\u001b[0m\u001b[0;34m(\u001b[0m\u001b[0mmu_sharpe\u001b[0m\u001b[0;34m,\u001b[0m \u001b[0mS_sharpe\u001b[0m\u001b[0;34m)\u001b[0m\u001b[0;34m\u001b[0m\u001b[0;34m\u001b[0m\u001b[0m\n\u001b[0m\u001b[1;32m      4\u001b[0m \u001b[0mef\u001b[0m\u001b[0;34m.\u001b[0m\u001b[0madd_objective\u001b[0m\u001b[0;34m(\u001b[0m\u001b[0mobjective_functions\u001b[0m\u001b[0;34m.\u001b[0m\u001b[0mL2_reg\u001b[0m\u001b[0;34m,\u001b[0m \u001b[0mgamma\u001b[0m\u001b[0;34m=\u001b[0m\u001b[0;36m0.1\u001b[0m\u001b[0;34m)\u001b[0m\u001b[0;34m\u001b[0m\u001b[0;34m\u001b[0m\u001b[0m\n\u001b[1;32m      5\u001b[0m \u001b[0mfig\u001b[0m\u001b[0;34m,\u001b[0m \u001b[0max\u001b[0m \u001b[0;34m=\u001b[0m \u001b[0mplt\u001b[0m\u001b[0;34m.\u001b[0m\u001b[0msubplots\u001b[0m\u001b[0;34m(\u001b[0m\u001b[0mfigsize\u001b[0m\u001b[0;34m=\u001b[0m\u001b[0;34m(\u001b[0m\u001b[0;36m8\u001b[0m\u001b[0;34m,\u001b[0m \u001b[0;36m6\u001b[0m\u001b[0;34m)\u001b[0m\u001b[0;34m)\u001b[0m\u001b[0;34m\u001b[0m\u001b[0;34m\u001b[0m\u001b[0m\n",
      "\u001b[0;31mNameError\u001b[0m: name 'EfficientFrontier' is not defined"
     ]
    }
   ],
   "source": [
    "#######SHARPE#######\n",
    "\n",
    "ef = EfficientFrontier(mu_sharpe, S_sharpe)\n",
    "ef.add_objective(objective_functions.L2_reg, gamma=0.1)\n",
    "fig, ax = plt.subplots(figsize=(8, 6))\n",
    "ef_max_sharpe = copy.deepcopy(ef)\n",
    "plotting.plot_efficient_frontier(ef, ax=ax, show_assets=False)\n",
    "\n",
    "# Find the tangency portfolio\n",
    "ef_max_sharpe.max_sharpe(risk_free_rate=0.0255)\n",
    "ret_tangent, std_tangent, _ = ef_max_sharpe.portfolio_performance()\n",
    "ax.scatter(std_tangent, ret_tangent, marker=\"*\", s=100, c=\"r\", label=\"Max Sharpe\")\n",
    "\n",
    "# Generate random portfolios\n",
    "n_samples = 10000\n",
    "w = np.random.dirichlet(np.ones(ef.n_assets), n_samples)\n",
    "rets = w.dot(ef.expected_returns)\n",
    "stds = np.sqrt(np.diag(w @ ef.cov_matrix @ w.T))\n",
    "sharpes = rets / stds\n",
    "ax.scatter(stds, rets, marker=\".\", c=sharpes, cmap=\"viridis_r\")\n",
    "\n",
    "# Output\n",
    "ax.set_title(\"Efficient Frontier with random portfolios\")\n",
    "ax.legend()\n",
    "plt.tight_layout()\n",
    "plt.savefig(\"ef_scatter.png\", dpi=200)\n",
    "plt.show()"
   ]
  },
  {
   "cell_type": "code",
   "execution_count": null,
   "id": "a0b9ca60-3fee-4d8d-817b-8dacf55297d3",
   "metadata": {},
   "outputs": [],
   "source": []
  }
 ],
 "metadata": {
  "kernelspec": {
   "display_name": "Python 3 (ipykernel)",
   "language": "python",
   "name": "python3"
  },
  "language_info": {
   "codemirror_mode": {
    "name": "ipython",
    "version": 3
   },
   "file_extension": ".py",
   "mimetype": "text/x-python",
   "name": "python",
   "nbconvert_exporter": "python",
   "pygments_lexer": "ipython3",
   "version": "3.9.13"
  }
 },
 "nbformat": 4,
 "nbformat_minor": 5
}
