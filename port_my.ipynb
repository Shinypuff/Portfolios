{
 "cells": [
  {
   "cell_type": "code",
   "execution_count": 1,
   "id": "2bd77b7e-24ca-42b9-9d6f-332323b2f51d",
   "metadata": {},
   "outputs": [],
   "source": [
    "import random as rand\n",
    "import json\n",
    "import pandas as pd\n",
    "import numpy as np\n",
    "import yfinance as yf\n",
    "import warnings\n",
    "warnings.filterwarnings('ignore')\n",
    "\n",
    "from datetime import timedelta\n",
    "from datetime import datetime\n",
    "\n",
    "from matplotlib import pyplot as plt\n",
    "from utils.drawdown import Drawdown_plot\n",
    "from Port.Sharp import SharpPortfolio\n",
    "from Port.Markowitz_scipy import MarkowitzPortfolio\n",
    "from Port.Tobin_scipy import TobinPortfolio"
   ]
  },
  {
   "cell_type": "markdown",
   "id": "f4f185af-5722-42cc-ba16-f2a5556aa5e2",
   "metadata": {
    "tags": []
   },
   "source": [
    "# Загрузка данных для работы"
   ]
  },
  {
   "cell_type": "code",
   "execution_count": 2,
   "id": "71fdbdb9-41b3-4ab7-aa43-13e7f25a7a6a",
   "metadata": {},
   "outputs": [],
   "source": [
    "with open('utils/config.json', 'r') as file:\n",
    "    config = json.load(file)\n",
    "    \n",
    "start = config['start_date']\n",
    "end = config['end_date']\n",
    "riskfree = config['riskless_rate']\n",
    "riskfree_day = ((1+riskfree)**(1/252))-1"
   ]
  },
  {
   "cell_type": "code",
   "execution_count": 3,
   "id": "cebf71c9-f042-4e4f-89c4-7802a147a00e",
   "metadata": {},
   "outputs": [],
   "source": [
    "# def get_sp_data(start=start, end=end):\n",
    "#     # Get the current SP components, and get a tickers list\n",
    "#     sp_assets = pd.read_html(\n",
    "#         'https://en.wikipedia.org/wiki/List_of_S%26P_500_companies')[0]\n",
    "#     assets = sp_assets['Symbol'].str.replace('.', '-').tolist()\n",
    "#     # Download historical data to a multi-index DataFrame\n",
    "#     try:\n",
    "#         data = yf.download(assets, start=start, end=end, as_panel=False)\n",
    "#         filename = 'sp_components_data.pkl'\n",
    "#         data.to_pickle(filename)\n",
    "#         print('Data saved at {}'.format(filename))\n",
    "#     except ValueError:\n",
    "#         print('Failed download, try again.')\n",
    "#         data = None\n",
    "#     return data\n",
    "\n",
    "\n",
    "# if __name__ == '__main__':\n",
    "#     data = get_sp_data()"
   ]
  },
  {
   "cell_type": "code",
   "execution_count": 4,
   "id": "9d2a3f3a-332c-45fa-b356-4c57fa2fa0ae",
   "metadata": {},
   "outputs": [],
   "source": [
    "# pct = data.pct_change().iloc[1:,]\n",
    "# pct.to_excel('returns.xlsx')"
   ]
  },
  {
   "cell_type": "code",
   "execution_count": 5,
   "id": "84fc9954-f8dc-44df-8877-cf693c1d5115",
   "metadata": {},
   "outputs": [],
   "source": [
    "sp500 = pd.read_excel('Data/sp500.xlsx', index_col=0)\n",
    "market = sp500.pct_change().iloc[1: ]\n",
    "pct = pd.read_excel('Data/returns.xlsx', index_col = 0)"
   ]
  },
  {
   "cell_type": "code",
   "execution_count": 6,
   "id": "942e9e75-f30d-4026-bc28-4cf94b504f4e",
   "metadata": {},
   "outputs": [],
   "source": [
    "pct = pct.dropna(axis=1)"
   ]
  },
  {
   "cell_type": "markdown",
   "id": "bd190cca-ce4c-4685-ae38-8f8e422f04c6",
   "metadata": {},
   "source": [
    "# Метрики"
   ]
  },
  {
   "cell_type": "code",
   "execution_count": 7,
   "id": "70055c5e-b116-40e2-83a3-91c0435cd6b6",
   "metadata": {},
   "outputs": [],
   "source": [
    "def get_metrics(df_data):  \n",
    "    metr = pd.DataFrame()\n",
    "    \n",
    "    #Average daily returns\n",
    "    mean = df_data.mean()\n",
    "    metr['AVG_returns'] = mean\n",
    "\n",
    "    #Risk\n",
    "    risk = df_data.std()\n",
    "    metr['Risk'] = risk\n",
    "\n",
    "    #Beta\n",
    "\n",
    "    var_metr = df_data.var()\n",
    "    cov_metr = df_data.cov()\n",
    "    beta = cov_metr['market']/var_metr['market']\n",
    "\n",
    "    metr['Beta'] = beta\n",
    "\n",
    "    #Alpha\n",
    "\n",
    "    riskf_daily = ((1+riskfree)**(1/252))-1\n",
    "    alpha = metr['AVG_returns'] - (riskf_daily + metr['Beta']*(mean['market'] - riskf_daily))\n",
    "    metr['Alpha'] = alpha\n",
    "\n",
    "    #VaR(95%)\n",
    "\n",
    "    VaR = - risk*1.65\n",
    "    metr['VaR(95%)'] = VaR\n",
    "    \n",
    "    #Drawdown and Recovery\n",
    "    portfolio_value = (df_data+1).cumprod() #датафрейм со \"стоимостью\" портфеля\n",
    "\n",
    "    recovery = []\n",
    "    drawdown = []\n",
    "    for i in range(len(df_data.columns)):\n",
    "        recovery.append(Drawdown_plot('zelyoniy','sobaka').find_max_recovery(portfolio_value.iloc[:,i])[0])\n",
    "        drawdown.append(Drawdown_plot(1,1).find_max_drawdown(portfolio_value.iloc[:,i])[0])\n",
    "    \n",
    "    metr['Drawdown(%)'] = drawdown\n",
    "    metr['Recovery(days)'] = recovery\n",
    "\n",
    "    return metr"
   ]
  },
  {
   "cell_type": "markdown",
   "id": "b77cf607-fb30-4c12-853f-993d2a221cd1",
   "metadata": {
    "tags": []
   },
   "source": [
    "# Бэктест "
   ]
  },
  {
   "cell_type": "code",
   "execution_count": 8,
   "id": "0c3f78bd-082b-4dba-95e9-1c170de1ec3d",
   "metadata": {},
   "outputs": [],
   "source": [
    "def backtesting_universal(data, # df with pct_changes\n",
    "                          port_model = MarkowitzPortfolio,\n",
    "                          window_train = 24, \n",
    "                          window_test = 1,\n",
    "                          train_start_year = 2018, \n",
    "                          train_start_month = 1,\n",
    "                          test_finish_year = 2022,\n",
    "                          test_finish_month = 11,\n",
    "                          **args):\n",
    "    \n",
    "    # print(args)\n",
    "    weights_year = []\n",
    "    return_portfolio = pd.DataFrame([])\n",
    "    \n",
    "    train_start_month = train_start_year * 12 + train_start_month - 1\n",
    "    test_finish_month = test_finish_year * 12 + test_finish_month - 1\n",
    "    train_finish_month = test_finish_month - window_train - window_test + 1\n",
    "    \n",
    "    for train_start_per in range(train_start_month, train_finish_month, window_test):\n",
    "        \n",
    "        train_finish_per = train_start_per + window_train\n",
    "        \n",
    "        train_year_start_per = train_start_per // 12\n",
    "        train_month_start_per = train_start_per % 12 + 1\n",
    "        \n",
    "        train_year_finish_per = train_finish_per // 12\n",
    "        train_month_finish_per = train_finish_per % 12 + 1\n",
    "        \n",
    "                \n",
    "        mask_train = (data.index > datetime(train_year_start_per, train_month_start_per, 1)) & (data.index < datetime(train_year_finish_per, train_month_finish_per, 1))\n",
    "        data_train_per = data[mask_train]\n",
    "        \n",
    "        \n",
    "        mu = (((data_train_per + 1).prod()) ** (1 / len(data_train_per)) - 1).values * 252  # средняя доходность за год (252 раб дня)\n",
    "        Sigma = data_train_per.cov().values * 252  # ковариационная матрица за год (252 раб дня)\n",
    "\n",
    "        port_ = port_model(mu, Sigma, args=args)\n",
    "        weights, _ = port_.fit()\n",
    "        weights_year.append(weights)\n",
    "        \n",
    "        \n",
    "        test_year_start_per = train_year_finish_per\n",
    "        test_month_start_per = train_month_finish_per\n",
    "        \n",
    "        test_finish_per = train_finish_per + window_test\n",
    "        \n",
    "        test_year_finish_per = test_finish_per // 12\n",
    "        test_month_finish_per = test_finish_per % 12 + 1\n",
    "        \n",
    "        # print(train_year_start_per, train_month_start_per,  train_year_finish_per, train_month_finish_per, test_year_finish_per, test_month_finish_per)\n",
    "        \n",
    "                \n",
    "        mask_test = (data.index > datetime(test_year_start_per, test_month_start_per, 1)) & (data.index < datetime(test_year_finish_per, test_month_finish_per, 1))\n",
    "        data_test_per = data[mask_test]\n",
    "        \n",
    "        #print(data_test_per, weights)\n",
    "        #print(data_test_per.shape, weights.shape)\n",
    "        return_portfolio_loc = pd.DataFrame(data_test_per.values @ weights, index=data_test_per.index,\n",
    "                                            columns=[f'{port_model.__name__}'])\n",
    "        \n",
    "\n",
    "        return_portfolio = pd.concat([return_portfolio, return_portfolio_loc])\n",
    "    \n",
    "    return_portfolio['market'] = market.loc[return_portfolio.index]\n",
    "\n",
    "    return return_portfolio"
   ]
  },
  {
   "cell_type": "markdown",
   "id": "1cfa89c5-446c-4f32-a5f3-f3825e007247",
   "metadata": {},
   "source": [
    "# Создание портфеля"
   ]
  },
  {
   "cell_type": "markdown",
   "id": "6445b0c4-14d1-42b1-8dd4-72a0bc136827",
   "metadata": {},
   "source": [
    "#### Один портфель"
   ]
  },
  {
   "cell_type": "code",
   "execution_count": 9,
   "id": "846df143-72ca-447e-bf5f-f26a4b8b4cd1",
   "metadata": {},
   "outputs": [],
   "source": [
    "def get_port(asset_list, portfolio_type = MarkowitzPortfolio, max_risk=1, min_ret=((1+riskfree)**(1/252))-1):\n",
    "    \n",
    "    asset_pct = pct[asset_list]\n",
    "    \n",
    "    asset_rets = backtesting_universal(asset_pct, port_model = portfolio_type, ret_det=(1+riskfree)**(1/252)-1, risk_det=1)\n",
    "    \n",
    "    asset_price = (asset_rets+1).cumprod()\n",
    "    plt.plot(asset_price)\n",
    "    plt.show()\n",
    "    \n",
    "    return asset_rets, asset_price"
   ]
  },
  {
   "cell_type": "markdown",
   "id": "7a045eff-5558-4197-b687-96c86149d967",
   "metadata": {},
   "source": [
    "#### Все портфели"
   ]
  },
  {
   "cell_type": "code",
   "execution_count": 202,
   "id": "27ab708a-4415-4d22-af9b-020e69904def",
   "metadata": {},
   "outputs": [],
   "source": [
    "# def get_all(asset_list, max_risk=1, min_ret=((1+riskfree)**(1/252))-1, args=None):\n",
    "def get_all(asset_list, ret_det=((1+riskfree)**(1/252))-1, risk_det=1):\n",
    "    \n",
    "    print('min_ret:'+str(ret_det), 'max_risk:'+str(risk_det))\n",
    "    \n",
    "    asset_pct = pct[asset_list]\n",
    "    res = pd.DataFrame()\n",
    "    res_price = pd.DataFrame()\n",
    "    portfolios = {'Markowitz': MarkowitzPortfolio, 'Sharpe': SharpPortfolio, 'Tobin': TobinPortfolio}\n",
    "    \n",
    "    for portfolio_type in portfolios.keys():\n",
    "    \n",
    "        asset_rets = backtesting_universal(asset_pct, port_model = portfolios[portfolio_type], ret_det=ret_det, risk_det=risk_det)\n",
    "        res = pd.concat([res,asset_rets.iloc[:,0]], axis=1)\n",
    "        \n",
    "        asset_price = (asset_rets+1).cumprod() \n",
    "        res_price= pd.concat([res_price,asset_price.iloc[:,0]], axis=1)\n",
    "    \n",
    "    res.set_axis(portfolios.keys(), axis='columns', inplace=True)\n",
    "    res_price.set_axis(portfolios.keys(), axis='columns', inplace=True)\n",
    "    res['market']= market.loc[res.index]\n",
    "    res_price['market']= (market.loc[res_price.index]+1).cumprod()\n",
    "    \n",
    "    # plt.plot(res_price, label = res_price.columns)\n",
    "    # plt.legend()\n",
    "    # plt.show()\n",
    "    \n",
    "    return res, res_price"
   ]
  },
  {
   "cell_type": "markdown",
   "id": "792a4185-5d28-4d2e-8f46-a39e6740b569",
   "metadata": {},
   "source": [
    "# Baseline"
   ]
  },
  {
   "cell_type": "code",
   "execution_count": 11,
   "id": "eaee9365-cd45-4194-8067-f16a4669ba91",
   "metadata": {},
   "outputs": [],
   "source": [
    "# fgfg = get_all(get_ab(pct, 20),ret_det=((1+riskfree)**(1/252))-1, risk_det=0.11)\n",
    "# fgfg"
   ]
  },
  {
   "cell_type": "code",
   "execution_count": 12,
   "id": "8f09e2fa-3ec1-4041-b0da-53f47b538323",
   "metadata": {},
   "outputs": [],
   "source": [
    "all_assets = pct.columns\n",
    "\n",
    "def select_rand(n=1):\n",
    "    rand_ports = pd.DataFrame()\n",
    "    metr = pd.DataFrame()\n",
    "    \n",
    "    for i in range(n):\n",
    "        pick = rand.sample(list(all_assets),20)\n",
    "        port,__ = get_all(pick)\n",
    "        rets = get_metrics(port).drop('market', axis = 0)\n",
    "        metr = pd.concat([metr, rets],axis = 0)\n",
    "    \n",
    "    return metr.groupby(metr.index).mean()"
   ]
  },
  {
   "cell_type": "code",
   "execution_count": 197,
   "id": "70e8b0e2-d842-433d-9dc2-13fef5ac792c",
   "metadata": {},
   "outputs": [
    {
     "name": "stdout",
     "output_type": "stream",
     "text": [
      "0.00011730371383444904 1\n"
     ]
    },
    {
     "data": {
      "text/html": [
       "<div>\n",
       "<style scoped>\n",
       "    .dataframe tbody tr th:only-of-type {\n",
       "        vertical-align: middle;\n",
       "    }\n",
       "\n",
       "    .dataframe tbody tr th {\n",
       "        vertical-align: top;\n",
       "    }\n",
       "\n",
       "    .dataframe thead th {\n",
       "        text-align: right;\n",
       "    }\n",
       "</style>\n",
       "<table border=\"1\" class=\"dataframe\">\n",
       "  <thead>\n",
       "    <tr style=\"text-align: right;\">\n",
       "      <th></th>\n",
       "      <th>AVG_returns</th>\n",
       "      <th>Risk</th>\n",
       "      <th>Beta</th>\n",
       "      <th>Alpha</th>\n",
       "      <th>VaR(95%)</th>\n",
       "      <th>Drawdown(%)</th>\n",
       "      <th>Recovery(days)</th>\n",
       "    </tr>\n",
       "  </thead>\n",
       "  <tbody>\n",
       "    <tr>\n",
       "      <th>Markowitz</th>\n",
       "      <td>0.000412</td>\n",
       "      <td>0.017113</td>\n",
       "      <td>0.938137</td>\n",
       "      <td>0.000045</td>\n",
       "      <td>-0.028236</td>\n",
       "      <td>-41.583980</td>\n",
       "      <td>182.0</td>\n",
       "    </tr>\n",
       "    <tr>\n",
       "      <th>Sharpe</th>\n",
       "      <td>0.000594</td>\n",
       "      <td>0.019617</td>\n",
       "      <td>1.054766</td>\n",
       "      <td>0.000196</td>\n",
       "      <td>-0.032368</td>\n",
       "      <td>-42.146781</td>\n",
       "      <td>198.0</td>\n",
       "    </tr>\n",
       "    <tr>\n",
       "      <th>Tobin</th>\n",
       "      <td>0.000229</td>\n",
       "      <td>0.018580</td>\n",
       "      <td>1.056953</td>\n",
       "      <td>-0.000170</td>\n",
       "      <td>-0.030658</td>\n",
       "      <td>-41.963675</td>\n",
       "      <td>359.0</td>\n",
       "    </tr>\n",
       "  </tbody>\n",
       "</table>\n",
       "</div>"
      ],
      "text/plain": [
       "           AVG_returns      Risk      Beta     Alpha  VaR(95%)  Drawdown(%)  \\\n",
       "Markowitz     0.000412  0.017113  0.938137  0.000045 -0.028236   -41.583980   \n",
       "Sharpe        0.000594  0.019617  1.054766  0.000196 -0.032368   -42.146781   \n",
       "Tobin         0.000229  0.018580  1.056953 -0.000170 -0.030658   -41.963675   \n",
       "\n",
       "           Recovery(days)  \n",
       "Markowitz           182.0  \n",
       "Sharpe              198.0  \n",
       "Tobin               359.0  "
      ]
     },
     "execution_count": 197,
     "metadata": {},
     "output_type": "execute_result"
    }
   ],
   "source": [
    "x = select_rand(1)\n",
    "x"
   ]
  },
  {
   "cell_type": "markdown",
   "id": "fb75b515-7005-47a7-b5db-fd0f4d6a37b5",
   "metadata": {},
   "source": [
    "# Шарп"
   ]
  },
  {
   "cell_type": "code",
   "execution_count": 14,
   "id": "caf782f0-5d33-43a0-bfcd-a5347cd21669",
   "metadata": {},
   "outputs": [],
   "source": [
    "def get_sharpe(df_pct,n):\n",
    "    sharpe = (df_pct.mean() - riskfree_day)/df_pct.std()\n",
    "    sharpe = sharpe.sort_values(ascending=False)\n",
    "    return sharpe.head(n).index.to_list()"
   ]
  },
  {
   "cell_type": "markdown",
   "id": "4fa7f5d0-7e74-4f85-97a4-49dea7524ac4",
   "metadata": {},
   "source": [
    "# Sortino"
   ]
  },
  {
   "cell_type": "code",
   "execution_count": 15,
   "id": "dc427157-b9d5-4673-b746-84e2d581ab4e",
   "metadata": {},
   "outputs": [],
   "source": [
    "def get_sortino(df_pct,n):\n",
    "    down_risk = pct[pct<0].std()\n",
    "    sortino = (df_pct.mean() - riskfree_day)/down_risk\n",
    "    sortino = sortino.sort_values(ascending=False)\n",
    "    return sortino.head(n).index.to_list()"
   ]
  },
  {
   "cell_type": "markdown",
   "id": "34d0e689-e22e-4f47-81fc-f33a47929934",
   "metadata": {},
   "source": [
    "# PEG"
   ]
  },
  {
   "cell_type": "code",
   "execution_count": 16,
   "id": "6de50154-ac2a-4776-b3da-f9208b815a87",
   "metadata": {},
   "outputs": [],
   "source": [
    "# ps_df = pd.DataFrame()\n",
    "\n",
    "# for company in pct.columns:   \n",
    "#     firm = yf.Ticker(company)\n",
    "#     dict =  firm.info\n",
    "#     ps_df[company] = [dict['priceToSalesTrailing12Months']]"
   ]
  },
  {
   "cell_type": "code",
   "execution_count": 17,
   "id": "91cb8dd7-09f4-432b-bcf4-4c9142f0444f",
   "metadata": {},
   "outputs": [],
   "source": [
    "# ps_df = ps_df.T\n",
    "ps_df = pd.read_excel('ps.xlsx', index_col=0).sort_values(by=0, ascending=0)"
   ]
  },
  {
   "cell_type": "markdown",
   "id": "6098538b-365f-40cd-9c25-249488415975",
   "metadata": {},
   "source": [
    "# Alpha/Beta"
   ]
  },
  {
   "cell_type": "code",
   "execution_count": 18,
   "id": "278de52b-b2ab-4d3e-9acd-17a91f36eb46",
   "metadata": {},
   "outputs": [],
   "source": [
    "def get_ab(df_pct, n):    \n",
    "    \n",
    "    ab_ratio = pd.DataFrame()\n",
    "\n",
    "    df_pct['market']= market\n",
    "\n",
    "    #Mean\n",
    "\n",
    "    mean_pct = df_pct.mean()\n",
    "\n",
    "    #Beta\n",
    "\n",
    "    var_pct = df_pct.var()\n",
    "    cov_pct = df_pct.cov()\n",
    "    beta = cov_pct['market']/var_pct['market']\n",
    "\n",
    "\n",
    "    #Alpha\n",
    "\n",
    "    riskf_daily = ((1+riskfree)**(1/252))-1\n",
    "    alpha = mean_pct - (riskf_daily + beta*(mean_pct['market'] - riskf_daily))\n",
    "\n",
    "    ab_ratio['Ratio'] = alpha/beta\n",
    "    \n",
    "    return list(ab_ratio.sort_values(by='Ratio', ascending=0).head(n).index)"
   ]
  },
  {
   "cell_type": "markdown",
   "id": "7d0606dc-0923-4f54-9017-d859648cdfbf",
   "metadata": {},
   "source": [
    "# Общий датафрейм"
   ]
  },
  {
   "cell_type": "markdown",
   "id": "f9a86213-6835-44bf-8fe9-d3ded480a797",
   "metadata": {},
   "source": [
    "#### Создаём словарь с ассетами для каждого метода"
   ]
  },
  {
   "cell_type": "code",
   "execution_count": 83,
   "id": "e593faf7-9266-4f6b-aae2-8fd0a91d550d",
   "metadata": {},
   "outputs": [],
   "source": [
    "def get_all_dict(df_pct, n):\n",
    "    \n",
    "    methods = {}\n",
    "        \n",
    "    #Sharpe\n",
    "    methods['Sharpe']=get_sharpe(df_pct, n)\n",
    "    \n",
    "    #Sortino\n",
    "    methods['Sortino']=get_sortino(df_pct,n)\n",
    "    \n",
    "    #P/S\n",
    "    ps_df = pd.read_excel('ps.xlsx', index_col=0).sort_values(by=0, ascending=0)\n",
    "    methods['P/S']=list(ps_df.head(n).index)\n",
    "    \n",
    "    #Alpha/Beta\n",
    "    methods['Alpha/Beta']=get_ab(df_pct, n)\n",
    "    \n",
    "    return methods"
   ]
  },
  {
   "cell_type": "code",
   "execution_count": 20,
   "id": "d087f398-fef2-4991-89b0-5a476d921fee",
   "metadata": {},
   "outputs": [],
   "source": [
    "ports = get_all_dict(pct, 20)"
   ]
  },
  {
   "cell_type": "markdown",
   "id": "c86daf92-e73b-4298-922a-f4ad41cdaa5d",
   "metadata": {},
   "source": [
    "#### Возвращаем общий датафрейм с портфелями для кадого метода"
   ]
  },
  {
   "cell_type": "code",
   "execution_count": 21,
   "id": "1b65dd54-70c7-41e9-aea2-2fdede294e55",
   "metadata": {},
   "outputs": [],
   "source": [
    "def get_all_df(df_pct, n, **args):\n",
    "    \n",
    "    if 'ret_det' not in args.keys():\n",
    "        args['ret_det']=((1+riskfree)**(1/252))-1\n",
    "    \n",
    "    if 'risk_det' not in args.keys():\n",
    "        args['risk_det']=1\n",
    "\n",
    "    method_dict = get_all_dict(df_pct,n)\n",
    "    \n",
    "    returns = pd.DataFrame()\n",
    "    prices = pd.DataFrame()\n",
    "\n",
    "    for method in method_dict.keys():\n",
    "        rets, price = get_all(method_dict[method], ret_det=args['ret_det'], risk_det=args['risk_det'])\n",
    "        rets['Method'] = method\n",
    "        price['Method'] = method\n",
    "\n",
    "        returns = pd.concat([returns,rets], axis = 0)\n",
    "        prices = pd.concat([prices,price], axis = 0)\n",
    "    \n",
    "    # print(pd.DataFrame.from_dict(method_dict))\n",
    "    \n",
    "    return returns, prices"
   ]
  },
  {
   "cell_type": "code",
   "execution_count": 79,
   "id": "d86e3177-9e40-4808-9861-b3c2543f1496",
   "metadata": {},
   "outputs": [],
   "source": [
    "all_rets.to_excel('get_all.xlsx')"
   ]
  },
  {
   "cell_type": "code",
   "execution_count": 177,
   "id": "6471ae7b-6de1-48d5-9e30-cbd0b454a10d",
   "metadata": {},
   "outputs": [],
   "source": [
    "# qwe = all_pr.loc[all_pr['Method']== 'Sharpe',:'market']\n",
    "# plt.plot(qwe)\n",
    "# plt.show()"
   ]
  },
  {
   "cell_type": "markdown",
   "id": "da511d20-877f-4216-8c5f-d603ba9acf4a",
   "metadata": {},
   "source": [
    "# Подсчёт метрик"
   ]
  },
  {
   "cell_type": "code",
   "execution_count": 81,
   "id": "4f9dbb0e-8081-44a9-99d7-8bb7beb3a6b6",
   "metadata": {},
   "outputs": [],
   "source": [
    "def all_metr(df_all_rets):\n",
    "    metrics = pd.DataFrame()\n",
    "    \n",
    "    for method in ports.keys():\n",
    "        ff = get_metrics(df_all_rets.loc[df_all_rets['Method']== method,:'market'])\n",
    "        ff['Method'] = method\n",
    "        metrics = pd.concat([metrics, ff.drop('market')],axis=0)\n",
    "    \n",
    "    # metrics = pd.concat([metrics, ff.loc['market',]],axis=0)\n",
    "    \n",
    "    return metrics"
   ]
  },
  {
   "cell_type": "code",
   "execution_count": 208,
   "id": "65e9d6dc-4328-4252-ba2e-5dd0e206f465",
   "metadata": {},
   "outputs": [],
   "source": [
    "def get_srez(df_metr, port=None , method=None):\n",
    "    \n",
    "    if port!=None and method==None:\n",
    "        asd = df_metr.loc[df_metr['index']==port, :]\n",
    "        bars='Method'\n",
    "    \n",
    "    elif method != None and port==None:\n",
    "        asd = df_metr.loc[df_metr['Method']==method, :]\n",
    "        bars='index'\n",
    "    \n",
    "    elif port!=None and method!=None:\n",
    "        asd = df_metr.loc[df_metr['Method']==method, :]\n",
    "        asd = asd.loc[asd['index']==port, :]\n",
    "        bars=0\n",
    "        \n",
    "    for metric in asd.iloc[:,1:asd.shape[1]-1]:\n",
    "        \n",
    "        if metric=='AVG_returns': \n",
    "            n = np.arange(len(asd[bars]))\n",
    "            plt.xticks(n,asd[bars])\n",
    "\n",
    "            plt.bar(n-0.2, height=asd.loc[:,metric], width=0.4)\n",
    "            plt.bar(n+0.2, height=asd.loc[:,'Risk'], width=0.4)\n",
    "            plt.legend([metric,'Risk'])\n",
    "        \n",
    "        elif bars==0:\n",
    "            break\n",
    "        \n",
    "        else:\n",
    "            plt.bar(asd[bars], height=asd.loc[:,metric], width=0.4)\n",
    "        \n",
    "        plt.title(metric)\n",
    "        plt.show()\n",
    "               \n",
    "    return asd"
   ]
  },
  {
   "cell_type": "code",
   "execution_count": 209,
   "id": "7189f526-2ef2-4017-9bd0-55eb78676314",
   "metadata": {},
   "outputs": [],
   "source": [
    "# fg = __.loc[__['Method']== 'Sharpe',:].drop('Method', axis = 1)\n",
    "# plt.plot(fg)\n",
    "# plt.show()"
   ]
  },
  {
   "cell_type": "code",
   "execution_count": 213,
   "id": "73478858-9464-430e-a9b7-7db62a6ec2b5",
   "metadata": {},
   "outputs": [],
   "source": [
    "# ss.to_excel('Data/assets.xlsx')"
   ]
  },
  {
   "cell_type": "markdown",
   "id": "0ea9e9de-ba2b-46fd-912b-476bfe2c30c3",
   "metadata": {},
   "source": [
    "# Считаем"
   ]
  },
  {
   "cell_type": "code",
   "execution_count": 210,
   "id": "23f789da-608f-4048-a5d2-82ac9d14bfee",
   "metadata": {},
   "outputs": [
    {
     "name": "stdout",
     "output_type": "stream",
     "text": [
      "min_ret:0.01 max_risk:0.11\n",
      "min_ret:0.01 max_risk:0.11\n",
      "min_ret:0.01 max_risk:0.11\n",
      "min_ret:0.01 max_risk:0.11\n"
     ]
    }
   ],
   "source": [
    "#args: df_pct, n of assets, ret_det(keyword), risk_det(keyword), \n",
    "\n",
    "all_rets, all_pr = get_all_df(pct, 20, risk_det=0.11, ret_det=0.01 )"
   ]
  },
  {
   "cell_type": "code",
   "execution_count": 214,
   "id": "5f98a55b-359e-49d9-a59c-c8a08589da3a",
   "metadata": {},
   "outputs": [],
   "source": [
    "rt=all_metr(all_rets) #args: df with ALL returns\n",
    "\n",
    "melted = all_metr(all_rets).reset_index().melt(id_vars=['index','Method'])\n",
    "\n",
    "op = rt.reset_index()"
   ]
  },
  {
   "cell_type": "code",
   "execution_count": 212,
   "id": "0a8947a6-78b7-4f83-8dbb-a6308c4d10f4",
   "metadata": {},
   "outputs": [
    {
     "data": {
      "image/png": "[encoded data removed]",
      "text/plain": [
       "<Figure size 640x480 with 1 Axes>"
      ]
     },
     "metadata": {},
     "output_type": "display_data"
    },
    {
     "data": {
      "image/png": "[encoded data removed]",
      "text/plain": [
       "<Figure size 640x480 with 1 Axes>"
      ]
     },
     "metadata": {},
     "output_type": "display_data"
    },
    {
     "data": {
      "image/png": "[encoded data removed]",
      "text/plain": [
       "<Figure size 640x480 with 1 Axes>"
      ]
     },
     "metadata": {},
     "output_type": "display_data"
    },
    {
     "data": {
      "image/png": "[encoded data removed]",
      "text/plain": [
       "<Figure size 640x480 with 1 Axes>"
      ]
     },
     "metadata": {},
     "output_type": "display_data"
    },
    {
     "data": {
      "image/png": "[encoded data removed]",
      "text/plain": [
       "<Figure size 640x480 with 1 Axes>"
      ]
     },
     "metadata": {},
     "output_type": "display_data"
    },
    {
     "data": {
      "image/png": "[encoded data removed]",
      "text/plain": [
       "<Figure size 640x480 with 1 Axes>"
      ]
     },
     "metadata": {},
     "output_type": "display_data"
    },
    {
     "data": {
      "image/png": "[encoded data removed]",
      "text/plain": [
       "<Figure size 640x480 with 1 Axes>"
      ]
     },
     "metadata": {},
     "output_type": "display_data"
    }
   ],
   "source": [
    "#args: df_metr, port, method, \n",
    "v = get_srez(op, None, 'P/S')"
   ]
  },
  {
   "cell_type": "code",
   "execution_count": null,
   "id": "cd4e517d-529b-401f-9af3-d539e87d2cea",
   "metadata": {},
   "outputs": [],
   "source": []
  }
 ],
 "metadata": {
  "kernelspec": {
   "display_name": "Python 3 (ipykernel)",
   "language": "python",
   "name": "python3"
  },
  "language_info": {
   "codemirror_mode": {
    "name": "ipython",
    "version": 3
   },
   "file_extension": ".py",
   "mimetype": "text/x-python",
   "name": "python",
   "nbconvert_exporter": "python",
   "pygments_lexer": "ipython3",
   "version": "3.9.13"
  }
 },
 "nbformat": 4,
 "nbformat_minor": 5
}
